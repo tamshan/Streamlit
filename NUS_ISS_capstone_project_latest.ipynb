{
  "nbformat": 4,
  "nbformat_minor": 0,
  "metadata": {
    "colab": {
      "provenance": []
    },
    "kernelspec": {
      "name": "python3",
      "display_name": "Python 3"
    },
    "language_info": {
      "name": "python"
    }
  },
  "cells": [
    {
      "cell_type": "code",
      "source": [
        "from google.colab import drive\n",
        "drive.mount('/content/drive')"
      ],
      "metadata": {
        "colab": {
          "base_uri": "https://localhost:8080/"
        },
        "id": "8s6SmiZZu9u5",
        "outputId": "c5807801-874b-4bd7-c99c-3c05ada0f481"
      },
      "execution_count": 1,
      "outputs": [
        {
          "output_type": "stream",
          "name": "stdout",
          "text": [
            "Mounted at /content/drive\n"
          ]
        }
      ]
    },
    {
      "cell_type": "code",
      "execution_count": 2,
      "metadata": {
        "id": "dTOc-SWNs_ac",
        "colab": {
          "base_uri": "https://localhost:8080/"
        },
        "outputId": "a894c654-64d8-43f9-b247-1d7f3c9ed347"
      },
      "outputs": [
        {
          "output_type": "stream",
          "name": "stdout",
          "text": [
            "Requirement already satisfied: xgboost in /usr/local/lib/python3.10/dist-packages (1.7.6)\n",
            "Requirement already satisfied: numpy in /usr/local/lib/python3.10/dist-packages (from xgboost) (1.23.5)\n",
            "Requirement already satisfied: scipy in /usr/local/lib/python3.10/dist-packages (from xgboost) (1.10.1)\n"
          ]
        }
      ],
      "source": [
        "# Import all required libs\n",
        "import pandas as pd\n",
        "import numpy as np\n",
        "import matplotlib.pyplot as plt\n",
        "import seaborn as sns\n",
        "\n",
        "import pickle\n",
        "\n",
        "## lightGBM\n",
        "\n",
        "import lightgbm as lgb\n",
        "import pandas as pd\n",
        "import numpy as np\n",
        "# XGBoost\n",
        "!pip install xgboost\n",
        "\n",
        "df=pd.read_csv('/content/drive/MyDrive/EBAC_Capstone/Leenay_all.csv')"
      ]
    },
    {
      "cell_type": "code",
      "source": [
        "df"
      ],
      "metadata": {
        "colab": {
          "base_uri": "https://localhost:8080/",
          "height": 617
        },
        "id": "Qa8yOhJV1xMH",
        "outputId": "041b07ea-4b7d-4f2a-ea2a-55b3b3983415"
      },
      "execution_count": 3,
      "outputs": [
        {
          "output_type": "execute_result",
          "data": {
            "text/plain": [
              "                            X  Fraction_Insertions  Avg_Insertion_Length  \\\n",
              "0     CTGCAGGGCTAGTTTCCTATAGG             0.069572              2.097587   \n",
              "1     GAGATGCGGACCACCCAGCTGGG             0.287647              1.042802   \n",
              "2     GCAAACGGAAGTGCAATTGTCGG             0.137004              1.116505   \n",
              "3     GTCATCGCTGAGTTGAGGAAGGG             0.093889              1.654088   \n",
              "4     ATATGATTATCCCTGCACAAGGG             0.526525              1.045430   \n",
              "...                       ...                  ...                   ...   \n",
              "1516  ATGCCCGACCAAAGACAACCAGG             0.093236              1.766402   \n",
              "1517  CACGCTGTCATCCACCAGGTAGG             0.069054              1.394578   \n",
              "1518  GGGCTCCAGAGTCTGATACAGGG             0.421439              1.002213   \n",
              "1519  AAAGACTTCGGTCCTCTAGTAGG             0.206277              1.058724   \n",
              "1520  TCGTCGCCCAGTGTCCAAGTGGG             0.284117              1.080032   \n",
              "\n",
              "      Avg_Deletion_Length  Indel_Diversity  Fraction_Frameshifts  \\\n",
              "0                4.301844         3.536538              0.807375   \n",
              "1               10.814444         3.871165              0.665696   \n",
              "2                9.888889         3.931298              0.684823   \n",
              "3                4.527812         3.523067              0.753003   \n",
              "4                6.415644         2.828101              0.887214   \n",
              "...                   ...              ...                   ...   \n",
              "1516             3.641787         3.170302              0.684801   \n",
              "1517             7.661831         4.284711              0.639433   \n",
              "1518             7.364856         3.175859              0.832975   \n",
              "1519             7.907886         3.782588              0.528375   \n",
              "1520             8.165065         3.993345              0.769577   \n",
              "\n",
              "                 ID  \n",
              "0        GuideSeq 1  \n",
              "1        GuideSeq 2  \n",
              "2        GuideSeq 3  \n",
              "3        GuideSeq 4  \n",
              "4        GuideSeq 5  \n",
              "...             ...  \n",
              "1516  GuideSeq 1517  \n",
              "1517  GuideSeq 1518  \n",
              "1518  GuideSeq 1519  \n",
              "1519  GuideSeq 1520  \n",
              "1520  GuideSeq 1521  \n",
              "\n",
              "[1521 rows x 7 columns]"
            ],
            "text/html": [
              "\n",
              "  <div id=\"df-fefe3bbb-4f90-4c16-9c2c-5d4b8726e6e4\" class=\"colab-df-container\">\n",
              "    <div>\n",
              "<style scoped>\n",
              "    .dataframe tbody tr th:only-of-type {\n",
              "        vertical-align: middle;\n",
              "    }\n",
              "\n",
              "    .dataframe tbody tr th {\n",
              "        vertical-align: top;\n",
              "    }\n",
              "\n",
              "    .dataframe thead th {\n",
              "        text-align: right;\n",
              "    }\n",
              "</style>\n",
              "<table border=\"1\" class=\"dataframe\">\n",
              "  <thead>\n",
              "    <tr style=\"text-align: right;\">\n",
              "      <th></th>\n",
              "      <th>X</th>\n",
              "      <th>Fraction_Insertions</th>\n",
              "      <th>Avg_Insertion_Length</th>\n",
              "      <th>Avg_Deletion_Length</th>\n",
              "      <th>Indel_Diversity</th>\n",
              "      <th>Fraction_Frameshifts</th>\n",
              "      <th>ID</th>\n",
              "    </tr>\n",
              "  </thead>\n",
              "  <tbody>\n",
              "    <tr>\n",
              "      <th>0</th>\n",
              "      <td>CTGCAGGGCTAGTTTCCTATAGG</td>\n",
              "      <td>0.069572</td>\n",
              "      <td>2.097587</td>\n",
              "      <td>4.301844</td>\n",
              "      <td>3.536538</td>\n",
              "      <td>0.807375</td>\n",
              "      <td>GuideSeq 1</td>\n",
              "    </tr>\n",
              "    <tr>\n",
              "      <th>1</th>\n",
              "      <td>GAGATGCGGACCACCCAGCTGGG</td>\n",
              "      <td>0.287647</td>\n",
              "      <td>1.042802</td>\n",
              "      <td>10.814444</td>\n",
              "      <td>3.871165</td>\n",
              "      <td>0.665696</td>\n",
              "      <td>GuideSeq 2</td>\n",
              "    </tr>\n",
              "    <tr>\n",
              "      <th>2</th>\n",
              "      <td>GCAAACGGAAGTGCAATTGTCGG</td>\n",
              "      <td>0.137004</td>\n",
              "      <td>1.116505</td>\n",
              "      <td>9.888889</td>\n",
              "      <td>3.931298</td>\n",
              "      <td>0.684823</td>\n",
              "      <td>GuideSeq 3</td>\n",
              "    </tr>\n",
              "    <tr>\n",
              "      <th>3</th>\n",
              "      <td>GTCATCGCTGAGTTGAGGAAGGG</td>\n",
              "      <td>0.093889</td>\n",
              "      <td>1.654088</td>\n",
              "      <td>4.527812</td>\n",
              "      <td>3.523067</td>\n",
              "      <td>0.753003</td>\n",
              "      <td>GuideSeq 4</td>\n",
              "    </tr>\n",
              "    <tr>\n",
              "      <th>4</th>\n",
              "      <td>ATATGATTATCCCTGCACAAGGG</td>\n",
              "      <td>0.526525</td>\n",
              "      <td>1.045430</td>\n",
              "      <td>6.415644</td>\n",
              "      <td>2.828101</td>\n",
              "      <td>0.887214</td>\n",
              "      <td>GuideSeq 5</td>\n",
              "    </tr>\n",
              "    <tr>\n",
              "      <th>...</th>\n",
              "      <td>...</td>\n",
              "      <td>...</td>\n",
              "      <td>...</td>\n",
              "      <td>...</td>\n",
              "      <td>...</td>\n",
              "      <td>...</td>\n",
              "      <td>...</td>\n",
              "    </tr>\n",
              "    <tr>\n",
              "      <th>1516</th>\n",
              "      <td>ATGCCCGACCAAAGACAACCAGG</td>\n",
              "      <td>0.093236</td>\n",
              "      <td>1.766402</td>\n",
              "      <td>3.641787</td>\n",
              "      <td>3.170302</td>\n",
              "      <td>0.684801</td>\n",
              "      <td>GuideSeq 1517</td>\n",
              "    </tr>\n",
              "    <tr>\n",
              "      <th>1517</th>\n",
              "      <td>CACGCTGTCATCCACCAGGTAGG</td>\n",
              "      <td>0.069054</td>\n",
              "      <td>1.394578</td>\n",
              "      <td>7.661831</td>\n",
              "      <td>4.284711</td>\n",
              "      <td>0.639433</td>\n",
              "      <td>GuideSeq 1518</td>\n",
              "    </tr>\n",
              "    <tr>\n",
              "      <th>1518</th>\n",
              "      <td>GGGCTCCAGAGTCTGATACAGGG</td>\n",
              "      <td>0.421439</td>\n",
              "      <td>1.002213</td>\n",
              "      <td>7.364856</td>\n",
              "      <td>3.175859</td>\n",
              "      <td>0.832975</td>\n",
              "      <td>GuideSeq 1519</td>\n",
              "    </tr>\n",
              "    <tr>\n",
              "      <th>1519</th>\n",
              "      <td>AAAGACTTCGGTCCTCTAGTAGG</td>\n",
              "      <td>0.206277</td>\n",
              "      <td>1.058724</td>\n",
              "      <td>7.907886</td>\n",
              "      <td>3.782588</td>\n",
              "      <td>0.528375</td>\n",
              "      <td>GuideSeq 1520</td>\n",
              "    </tr>\n",
              "    <tr>\n",
              "      <th>1520</th>\n",
              "      <td>TCGTCGCCCAGTGTCCAAGTGGG</td>\n",
              "      <td>0.284117</td>\n",
              "      <td>1.080032</td>\n",
              "      <td>8.165065</td>\n",
              "      <td>3.993345</td>\n",
              "      <td>0.769577</td>\n",
              "      <td>GuideSeq 1521</td>\n",
              "    </tr>\n",
              "  </tbody>\n",
              "</table>\n",
              "<p>1521 rows × 7 columns</p>\n",
              "</div>\n",
              "    <div class=\"colab-df-buttons\">\n",
              "\n",
              "  <div class=\"colab-df-container\">\n",
              "    <button class=\"colab-df-convert\" onclick=\"convertToInteractive('df-fefe3bbb-4f90-4c16-9c2c-5d4b8726e6e4')\"\n",
              "            title=\"Convert this dataframe to an interactive table.\"\n",
              "            style=\"display:none;\">\n",
              "\n",
              "  <svg xmlns=\"http://www.w3.org/2000/svg\" height=\"24px\" viewBox=\"0 -960 960 960\">\n",
              "    <path d=\"M120-120v-720h720v720H120Zm60-500h600v-160H180v160Zm220 220h160v-160H400v160Zm0 220h160v-160H400v160ZM180-400h160v-160H180v160Zm440 0h160v-160H620v160ZM180-180h160v-160H180v160Zm440 0h160v-160H620v160Z\"/>\n",
              "  </svg>\n",
              "    </button>\n",
              "\n",
              "  <style>\n",
              "    .colab-df-container {\n",
              "      display:flex;\n",
              "      gap: 12px;\n",
              "    }\n",
              "\n",
              "    .colab-df-convert {\n",
              "      background-color: #E8F0FE;\n",
              "      border: none;\n",
              "      border-radius: 50%;\n",
              "      cursor: pointer;\n",
              "      display: none;\n",
              "      fill: #1967D2;\n",
              "      height: 32px;\n",
              "      padding: 0 0 0 0;\n",
              "      width: 32px;\n",
              "    }\n",
              "\n",
              "    .colab-df-convert:hover {\n",
              "      background-color: #E2EBFA;\n",
              "      box-shadow: 0px 1px 2px rgba(60, 64, 67, 0.3), 0px 1px 3px 1px rgba(60, 64, 67, 0.15);\n",
              "      fill: #174EA6;\n",
              "    }\n",
              "\n",
              "    .colab-df-buttons div {\n",
              "      margin-bottom: 4px;\n",
              "    }\n",
              "\n",
              "    [theme=dark] .colab-df-convert {\n",
              "      background-color: #3B4455;\n",
              "      fill: #D2E3FC;\n",
              "    }\n",
              "\n",
              "    [theme=dark] .colab-df-convert:hover {\n",
              "      background-color: #434B5C;\n",
              "      box-shadow: 0px 1px 3px 1px rgba(0, 0, 0, 0.15);\n",
              "      filter: drop-shadow(0px 1px 2px rgba(0, 0, 0, 0.3));\n",
              "      fill: #FFFFFF;\n",
              "    }\n",
              "  </style>\n",
              "\n",
              "    <script>\n",
              "      const buttonEl =\n",
              "        document.querySelector('#df-fefe3bbb-4f90-4c16-9c2c-5d4b8726e6e4 button.colab-df-convert');\n",
              "      buttonEl.style.display =\n",
              "        google.colab.kernel.accessAllowed ? 'block' : 'none';\n",
              "\n",
              "      async function convertToInteractive(key) {\n",
              "        const element = document.querySelector('#df-fefe3bbb-4f90-4c16-9c2c-5d4b8726e6e4');\n",
              "        const dataTable =\n",
              "          await google.colab.kernel.invokeFunction('convertToInteractive',\n",
              "                                                    [key], {});\n",
              "        if (!dataTable) return;\n",
              "\n",
              "        const docLinkHtml = 'Like what you see? Visit the ' +\n",
              "          '<a target=\"_blank\" href=https://colab.research.google.com/notebooks/data_table.ipynb>data table notebook</a>'\n",
              "          + ' to learn more about interactive tables.';\n",
              "        element.innerHTML = '';\n",
              "        dataTable['output_type'] = 'display_data';\n",
              "        await google.colab.output.renderOutput(dataTable, element);\n",
              "        const docLink = document.createElement('div');\n",
              "        docLink.innerHTML = docLinkHtml;\n",
              "        element.appendChild(docLink);\n",
              "      }\n",
              "    </script>\n",
              "  </div>\n",
              "\n",
              "\n",
              "<div id=\"df-62fd45ad-86d9-442c-aa5e-9c8a978560f7\">\n",
              "  <button class=\"colab-df-quickchart\" onclick=\"quickchart('df-62fd45ad-86d9-442c-aa5e-9c8a978560f7')\"\n",
              "            title=\"Suggest charts.\"\n",
              "            style=\"display:none;\">\n",
              "\n",
              "<svg xmlns=\"http://www.w3.org/2000/svg\" height=\"24px\"viewBox=\"0 0 24 24\"\n",
              "     width=\"24px\">\n",
              "    <g>\n",
              "        <path d=\"M19 3H5c-1.1 0-2 .9-2 2v14c0 1.1.9 2 2 2h14c1.1 0 2-.9 2-2V5c0-1.1-.9-2-2-2zM9 17H7v-7h2v7zm4 0h-2V7h2v10zm4 0h-2v-4h2v4z\"/>\n",
              "    </g>\n",
              "</svg>\n",
              "  </button>\n",
              "\n",
              "<style>\n",
              "  .colab-df-quickchart {\n",
              "    background-color: #E8F0FE;\n",
              "    border: none;\n",
              "    border-radius: 50%;\n",
              "    cursor: pointer;\n",
              "    display: none;\n",
              "    fill: #1967D2;\n",
              "    height: 32px;\n",
              "    padding: 0 0 0 0;\n",
              "    width: 32px;\n",
              "  }\n",
              "\n",
              "  .colab-df-quickchart:hover {\n",
              "    background-color: #E2EBFA;\n",
              "    box-shadow: 0px 1px 2px rgba(60, 64, 67, 0.3), 0px 1px 3px 1px rgba(60, 64, 67, 0.15);\n",
              "    fill: #174EA6;\n",
              "  }\n",
              "\n",
              "  [theme=dark] .colab-df-quickchart {\n",
              "    background-color: #3B4455;\n",
              "    fill: #D2E3FC;\n",
              "  }\n",
              "\n",
              "  [theme=dark] .colab-df-quickchart:hover {\n",
              "    background-color: #434B5C;\n",
              "    box-shadow: 0px 1px 3px 1px rgba(0, 0, 0, 0.15);\n",
              "    filter: drop-shadow(0px 1px 2px rgba(0, 0, 0, 0.3));\n",
              "    fill: #FFFFFF;\n",
              "  }\n",
              "</style>\n",
              "\n",
              "  <script>\n",
              "    async function quickchart(key) {\n",
              "      const charts = await google.colab.kernel.invokeFunction(\n",
              "          'suggestCharts', [key], {});\n",
              "    }\n",
              "    (() => {\n",
              "      let quickchartButtonEl =\n",
              "        document.querySelector('#df-62fd45ad-86d9-442c-aa5e-9c8a978560f7 button');\n",
              "      quickchartButtonEl.style.display =\n",
              "        google.colab.kernel.accessAllowed ? 'block' : 'none';\n",
              "    })();\n",
              "  </script>\n",
              "</div>\n",
              "    </div>\n",
              "  </div>\n"
            ]
          },
          "metadata": {},
          "execution_count": 3
        }
      ]
    },
    {
      "cell_type": "code",
      "source": [
        "df['X']"
      ],
      "metadata": {
        "colab": {
          "base_uri": "https://localhost:8080/"
        },
        "id": "4qWAyEL58x7N",
        "outputId": "66b3b417-0e81-411c-9094-53c68a30a9b9"
      },
      "execution_count": 4,
      "outputs": [
        {
          "output_type": "execute_result",
          "data": {
            "text/plain": [
              "0       CTGCAGGGCTAGTTTCCTATAGG\n",
              "1       GAGATGCGGACCACCCAGCTGGG\n",
              "2       GCAAACGGAAGTGCAATTGTCGG\n",
              "3       GTCATCGCTGAGTTGAGGAAGGG\n",
              "4       ATATGATTATCCCTGCACAAGGG\n",
              "                 ...           \n",
              "1516    ATGCCCGACCAAAGACAACCAGG\n",
              "1517    CACGCTGTCATCCACCAGGTAGG\n",
              "1518    GGGCTCCAGAGTCTGATACAGGG\n",
              "1519    AAAGACTTCGGTCCTCTAGTAGG\n",
              "1520    TCGTCGCCCAGTGTCCAAGTGGG\n",
              "Name: X, Length: 1521, dtype: object"
            ]
          },
          "metadata": {},
          "execution_count": 4
        }
      ]
    },
    {
      "cell_type": "code",
      "source": [
        "\n",
        "# Import all required from scikit-learn\n",
        "# Pre processing\n",
        "from sklearn.preprocessing import StandardScaler\n",
        "from sklearn.preprocessing import MinMaxScaler\n",
        "from sklearn.preprocessing import OneHotEncoder\n",
        "from sklearn.compose import make_column_transformer\n",
        "from sklearn.compose import ColumnTransformer\n",
        "\n",
        "# Estimators\n",
        "from sklearn.naive_bayes import MultinomialNB\n",
        "from sklearn.linear_model import LogisticRegression\n",
        "from sklearn.linear_model import SGDClassifier\n",
        "from sklearn.svm import LinearSVC\n",
        "from sklearn.svm import SVC\n",
        "from sklearn.tree import DecisionTreeClassifier\n",
        "from sklearn.ensemble import BaggingClassifier\n",
        "from sklearn.ensemble import RandomForestClassifier\n",
        "from sklearn.ensemble import ExtraTreesClassifier\n",
        "from sklearn.ensemble import GradientBoostingClassifier\n",
        "from sklearn.ensemble import AdaBoostClassifier\n",
        "from sklearn.experimental import enable_hist_gradient_boosting\n",
        "from sklearn.ensemble import HistGradientBoostingClassifier\n",
        "from xgboost import XGBClassifier\n",
        "import xgboost as xgb\n",
        "from lightgbm import LGBMClassifier\n",
        "from sklearn.ensemble import VotingClassifier\n",
        "from sklearn.ensemble import StackingClassifier\n",
        "\n",
        "# Model Search\n",
        "from sklearn.model_selection import train_test_split\n",
        "from sklearn.model_selection import cross_val_score\n",
        "from sklearn.model_selection import validation_curve\n",
        "from sklearn.model_selection import GridSearchCV\n",
        "from sklearn.model_selection import RandomizedSearchCV\n",
        "from sklearn.model_selection import learning_curve\n",
        "\n",
        "#  Other Model Search Libs\n",
        "#from skopt import BayesSearchCV # Base lib name is scikit-optimize\n",
        "\n",
        "# Model Report Card\n",
        "from sklearn.metrics import accuracy_score\n",
        "from sklearn.metrics import confusion_matrix\n",
        "from sklearn.metrics import ConfusionMatrixDisplay\n",
        "from sklearn.metrics import roc_curve, auc, r2_score\n",
        "from sklearn.model_selection import train_test_split\n",
        "from sklearn.metrics import mean_squared_error\n",
        "\n",
        "# Make sample data using scikit learn\n",
        "from sklearn.datasets import make_blobs\n",
        "from scipy.stats import spearmanr\n",
        "\n",
        "# Others on top of Scikit Learn\n",
        "from yellowbrick.model_selection import ValidationCurve\n",
        "from yellowbrick.model_selection import LearningCurve\n",
        "from yellowbrick.classifier.rocauc import roc_auc"
      ],
      "metadata": {
        "id": "LXahaZzrR3FV",
        "colab": {
          "base_uri": "https://localhost:8080/"
        },
        "outputId": "df0a0246-098a-462e-cd4f-afe39141fc9a"
      },
      "execution_count": 5,
      "outputs": [
        {
          "output_type": "stream",
          "name": "stderr",
          "text": [
            "/usr/local/lib/python3.10/dist-packages/sklearn/experimental/enable_hist_gradient_boosting.py:16: UserWarning: Since version 1.0, it is not needed to import enable_hist_gradient_boosting anymore. HistGradientBoostingClassifier and HistGradientBoostingRegressor are now stable and can be normally imported from sklearn.ensemble.\n",
            "  warnings.warn(\n"
          ]
        }
      ]
    },
    {
      "cell_type": "code",
      "source": [
        "df.shape"
      ],
      "metadata": {
        "colab": {
          "base_uri": "https://localhost:8080/"
        },
        "id": "locgj6bMSQAb",
        "outputId": "a482acf9-69e2-48da-9048-11c4e808fac1"
      },
      "execution_count": 6,
      "outputs": [
        {
          "output_type": "execute_result",
          "data": {
            "text/plain": [
              "(1521, 7)"
            ]
          },
          "metadata": {},
          "execution_count": 6
        }
      ]
    },
    {
      "cell_type": "code",
      "source": [
        "df.size"
      ],
      "metadata": {
        "colab": {
          "base_uri": "https://localhost:8080/"
        },
        "id": "jAjl1ar0SWdk",
        "outputId": "024017db-edc3-4ad2-e298-7bcf87069247"
      },
      "execution_count": 7,
      "outputs": [
        {
          "output_type": "execute_result",
          "data": {
            "text/plain": [
              "10647"
            ]
          },
          "metadata": {},
          "execution_count": 7
        }
      ]
    },
    {
      "cell_type": "code",
      "source": [
        "# Column names\n",
        "print(f'No of columns = {df.shape[1]}', '\\n')\n",
        "df.columns.tolist()"
      ],
      "metadata": {
        "colab": {
          "base_uri": "https://localhost:8080/"
        },
        "id": "PahWNu9WSb7L",
        "outputId": "6a76e35e-6652-4991-c193-1a23bf38da33"
      },
      "execution_count": 8,
      "outputs": [
        {
          "output_type": "stream",
          "name": "stdout",
          "text": [
            "No of columns = 7 \n",
            "\n"
          ]
        },
        {
          "output_type": "execute_result",
          "data": {
            "text/plain": [
              "['X',\n",
              " 'Fraction_Insertions',\n",
              " 'Avg_Insertion_Length',\n",
              " 'Avg_Deletion_Length',\n",
              " 'Indel_Diversity',\n",
              " 'Fraction_Frameshifts',\n",
              " 'ID']"
            ]
          },
          "metadata": {},
          "execution_count": 8
        }
      ]
    },
    {
      "cell_type": "code",
      "source": [
        "# Any dupicate records\n",
        "df.duplicated().sum()"
      ],
      "metadata": {
        "colab": {
          "base_uri": "https://localhost:8080/"
        },
        "id": "O-U1VTSvSqY5",
        "outputId": "f9046ce1-f8f8-4b93-f417-e75ac2f1daf2"
      },
      "execution_count": 9,
      "outputs": [
        {
          "output_type": "execute_result",
          "data": {
            "text/plain": [
              "0"
            ]
          },
          "metadata": {},
          "execution_count": 9
        }
      ]
    },
    {
      "cell_type": "code",
      "source": [
        "# Any misisng values in column\n",
        "df.isnull().sum()"
      ],
      "metadata": {
        "colab": {
          "base_uri": "https://localhost:8080/"
        },
        "id": "4fvcPumbSuPz",
        "outputId": "0a4fa3a9-fc0a-44dc-a0c9-9f18ddef5077"
      },
      "execution_count": 10,
      "outputs": [
        {
          "output_type": "execute_result",
          "data": {
            "text/plain": [
              "X                       0\n",
              "Fraction_Insertions     0\n",
              "Avg_Insertion_Length    0\n",
              "Avg_Deletion_Length     0\n",
              "Indel_Diversity         0\n",
              "Fraction_Frameshifts    0\n",
              "ID                      0\n",
              "dtype: int64"
            ]
          },
          "metadata": {},
          "execution_count": 10
        }
      ]
    },
    {
      "cell_type": "code",
      "source": [
        "# Any misisng values in column (isna is same sas isnull)\n",
        "df.isna().sum()"
      ],
      "metadata": {
        "colab": {
          "base_uri": "https://localhost:8080/"
        },
        "id": "guBeqsQfS1WC",
        "outputId": "10ed4f5a-cb4e-4f81-bb6e-140c66b00970"
      },
      "execution_count": 11,
      "outputs": [
        {
          "output_type": "execute_result",
          "data": {
            "text/plain": [
              "X                       0\n",
              "Fraction_Insertions     0\n",
              "Avg_Insertion_Length    0\n",
              "Avg_Deletion_Length     0\n",
              "Indel_Diversity         0\n",
              "Fraction_Frameshifts    0\n",
              "ID                      0\n",
              "dtype: int64"
            ]
          },
          "metadata": {},
          "execution_count": 11
        }
      ]
    },
    {
      "cell_type": "code",
      "source": [
        "# Unique values\n",
        "df.nunique()"
      ],
      "metadata": {
        "colab": {
          "base_uri": "https://localhost:8080/"
        },
        "id": "6QB-GaOHS9VN",
        "outputId": "58488c61-2ef7-45f5-9a46-ccbf405c1bef"
      },
      "execution_count": 12,
      "outputs": [
        {
          "output_type": "execute_result",
          "data": {
            "text/plain": [
              "X                       1521\n",
              "Fraction_Insertions     1520\n",
              "Avg_Insertion_Length    1506\n",
              "Avg_Deletion_Length     1521\n",
              "Indel_Diversity         1521\n",
              "Fraction_Frameshifts    1521\n",
              "ID                      1521\n",
              "dtype: int64"
            ]
          },
          "metadata": {},
          "execution_count": 12
        }
      ]
    },
    {
      "cell_type": "code",
      "source": [
        "# Unique values in %\n",
        "round((df.nunique() / df.count()), 4) * 100"
      ],
      "metadata": {
        "colab": {
          "base_uri": "https://localhost:8080/"
        },
        "id": "y3ZC-Gm2TGeh",
        "outputId": "9f6f246a-04d9-4211-faeb-08d40857a323"
      },
      "execution_count": 13,
      "outputs": [
        {
          "output_type": "execute_result",
          "data": {
            "text/plain": [
              "X                       100.00\n",
              "Fraction_Insertions      99.93\n",
              "Avg_Insertion_Length     99.01\n",
              "Avg_Deletion_Length     100.00\n",
              "Indel_Diversity         100.00\n",
              "Fraction_Frameshifts    100.00\n",
              "ID                      100.00\n",
              "dtype: float64"
            ]
          },
          "metadata": {},
          "execution_count": 13
        }
      ]
    },
    {
      "cell_type": "code",
      "source": [
        "# Describe the entire train data frame (it will only describe the numerical columns only)\n",
        "df.describe()"
      ],
      "metadata": {
        "colab": {
          "base_uri": "https://localhost:8080/",
          "height": 300
        },
        "id": "9uGdJ2HsTOUf",
        "outputId": "b53f7c1a-ed7c-44da-9563-076416066175"
      },
      "execution_count": 14,
      "outputs": [
        {
          "output_type": "execute_result",
          "data": {
            "text/plain": [
              "       Fraction_Insertions  Avg_Insertion_Length  Avg_Deletion_Length  \\\n",
              "count          1521.000000           1521.000000          1521.000000   \n",
              "mean              0.208742              1.418754             7.461400   \n",
              "std               0.154053              0.944696             3.039895   \n",
              "min               0.001168              0.000000             2.110952   \n",
              "25%               0.088380              1.055097             5.553664   \n",
              "50%               0.163327              1.172269             7.052886   \n",
              "75%               0.296047              1.576923             8.771193   \n",
              "max               0.831198             20.773882            46.027027   \n",
              "\n",
              "       Indel_Diversity  Fraction_Frameshifts  \n",
              "count      1521.000000           1521.000000  \n",
              "mean          3.803834              0.697010  \n",
              "std           0.703009              0.127466  \n",
              "min           0.865452              0.001676  \n",
              "25%           3.373111              0.641359  \n",
              "50%           3.865803              0.715334  \n",
              "75%           4.299745              0.780449  \n",
              "max           5.548348              0.954305  "
            ],
            "text/html": [
              "\n",
              "  <div id=\"df-91dc52de-606d-44b2-b81e-aedd3da6d5b3\" class=\"colab-df-container\">\n",
              "    <div>\n",
              "<style scoped>\n",
              "    .dataframe tbody tr th:only-of-type {\n",
              "        vertical-align: middle;\n",
              "    }\n",
              "\n",
              "    .dataframe tbody tr th {\n",
              "        vertical-align: top;\n",
              "    }\n",
              "\n",
              "    .dataframe thead th {\n",
              "        text-align: right;\n",
              "    }\n",
              "</style>\n",
              "<table border=\"1\" class=\"dataframe\">\n",
              "  <thead>\n",
              "    <tr style=\"text-align: right;\">\n",
              "      <th></th>\n",
              "      <th>Fraction_Insertions</th>\n",
              "      <th>Avg_Insertion_Length</th>\n",
              "      <th>Avg_Deletion_Length</th>\n",
              "      <th>Indel_Diversity</th>\n",
              "      <th>Fraction_Frameshifts</th>\n",
              "    </tr>\n",
              "  </thead>\n",
              "  <tbody>\n",
              "    <tr>\n",
              "      <th>count</th>\n",
              "      <td>1521.000000</td>\n",
              "      <td>1521.000000</td>\n",
              "      <td>1521.000000</td>\n",
              "      <td>1521.000000</td>\n",
              "      <td>1521.000000</td>\n",
              "    </tr>\n",
              "    <tr>\n",
              "      <th>mean</th>\n",
              "      <td>0.208742</td>\n",
              "      <td>1.418754</td>\n",
              "      <td>7.461400</td>\n",
              "      <td>3.803834</td>\n",
              "      <td>0.697010</td>\n",
              "    </tr>\n",
              "    <tr>\n",
              "      <th>std</th>\n",
              "      <td>0.154053</td>\n",
              "      <td>0.944696</td>\n",
              "      <td>3.039895</td>\n",
              "      <td>0.703009</td>\n",
              "      <td>0.127466</td>\n",
              "    </tr>\n",
              "    <tr>\n",
              "      <th>min</th>\n",
              "      <td>0.001168</td>\n",
              "      <td>0.000000</td>\n",
              "      <td>2.110952</td>\n",
              "      <td>0.865452</td>\n",
              "      <td>0.001676</td>\n",
              "    </tr>\n",
              "    <tr>\n",
              "      <th>25%</th>\n",
              "      <td>0.088380</td>\n",
              "      <td>1.055097</td>\n",
              "      <td>5.553664</td>\n",
              "      <td>3.373111</td>\n",
              "      <td>0.641359</td>\n",
              "    </tr>\n",
              "    <tr>\n",
              "      <th>50%</th>\n",
              "      <td>0.163327</td>\n",
              "      <td>1.172269</td>\n",
              "      <td>7.052886</td>\n",
              "      <td>3.865803</td>\n",
              "      <td>0.715334</td>\n",
              "    </tr>\n",
              "    <tr>\n",
              "      <th>75%</th>\n",
              "      <td>0.296047</td>\n",
              "      <td>1.576923</td>\n",
              "      <td>8.771193</td>\n",
              "      <td>4.299745</td>\n",
              "      <td>0.780449</td>\n",
              "    </tr>\n",
              "    <tr>\n",
              "      <th>max</th>\n",
              "      <td>0.831198</td>\n",
              "      <td>20.773882</td>\n",
              "      <td>46.027027</td>\n",
              "      <td>5.548348</td>\n",
              "      <td>0.954305</td>\n",
              "    </tr>\n",
              "  </tbody>\n",
              "</table>\n",
              "</div>\n",
              "    <div class=\"colab-df-buttons\">\n",
              "\n",
              "  <div class=\"colab-df-container\">\n",
              "    <button class=\"colab-df-convert\" onclick=\"convertToInteractive('df-91dc52de-606d-44b2-b81e-aedd3da6d5b3')\"\n",
              "            title=\"Convert this dataframe to an interactive table.\"\n",
              "            style=\"display:none;\">\n",
              "\n",
              "  <svg xmlns=\"http://www.w3.org/2000/svg\" height=\"24px\" viewBox=\"0 -960 960 960\">\n",
              "    <path d=\"M120-120v-720h720v720H120Zm60-500h600v-160H180v160Zm220 220h160v-160H400v160Zm0 220h160v-160H400v160ZM180-400h160v-160H180v160Zm440 0h160v-160H620v160ZM180-180h160v-160H180v160Zm440 0h160v-160H620v160Z\"/>\n",
              "  </svg>\n",
              "    </button>\n",
              "\n",
              "  <style>\n",
              "    .colab-df-container {\n",
              "      display:flex;\n",
              "      gap: 12px;\n",
              "    }\n",
              "\n",
              "    .colab-df-convert {\n",
              "      background-color: #E8F0FE;\n",
              "      border: none;\n",
              "      border-radius: 50%;\n",
              "      cursor: pointer;\n",
              "      display: none;\n",
              "      fill: #1967D2;\n",
              "      height: 32px;\n",
              "      padding: 0 0 0 0;\n",
              "      width: 32px;\n",
              "    }\n",
              "\n",
              "    .colab-df-convert:hover {\n",
              "      background-color: #E2EBFA;\n",
              "      box-shadow: 0px 1px 2px rgba(60, 64, 67, 0.3), 0px 1px 3px 1px rgba(60, 64, 67, 0.15);\n",
              "      fill: #174EA6;\n",
              "    }\n",
              "\n",
              "    .colab-df-buttons div {\n",
              "      margin-bottom: 4px;\n",
              "    }\n",
              "\n",
              "    [theme=dark] .colab-df-convert {\n",
              "      background-color: #3B4455;\n",
              "      fill: #D2E3FC;\n",
              "    }\n",
              "\n",
              "    [theme=dark] .colab-df-convert:hover {\n",
              "      background-color: #434B5C;\n",
              "      box-shadow: 0px 1px 3px 1px rgba(0, 0, 0, 0.15);\n",
              "      filter: drop-shadow(0px 1px 2px rgba(0, 0, 0, 0.3));\n",
              "      fill: #FFFFFF;\n",
              "    }\n",
              "  </style>\n",
              "\n",
              "    <script>\n",
              "      const buttonEl =\n",
              "        document.querySelector('#df-91dc52de-606d-44b2-b81e-aedd3da6d5b3 button.colab-df-convert');\n",
              "      buttonEl.style.display =\n",
              "        google.colab.kernel.accessAllowed ? 'block' : 'none';\n",
              "\n",
              "      async function convertToInteractive(key) {\n",
              "        const element = document.querySelector('#df-91dc52de-606d-44b2-b81e-aedd3da6d5b3');\n",
              "        const dataTable =\n",
              "          await google.colab.kernel.invokeFunction('convertToInteractive',\n",
              "                                                    [key], {});\n",
              "        if (!dataTable) return;\n",
              "\n",
              "        const docLinkHtml = 'Like what you see? Visit the ' +\n",
              "          '<a target=\"_blank\" href=https://colab.research.google.com/notebooks/data_table.ipynb>data table notebook</a>'\n",
              "          + ' to learn more about interactive tables.';\n",
              "        element.innerHTML = '';\n",
              "        dataTable['output_type'] = 'display_data';\n",
              "        await google.colab.output.renderOutput(dataTable, element);\n",
              "        const docLink = document.createElement('div');\n",
              "        docLink.innerHTML = docLinkHtml;\n",
              "        element.appendChild(docLink);\n",
              "      }\n",
              "    </script>\n",
              "  </div>\n",
              "\n",
              "\n",
              "<div id=\"df-6d0d6fbf-09d2-426f-b231-30417634f26f\">\n",
              "  <button class=\"colab-df-quickchart\" onclick=\"quickchart('df-6d0d6fbf-09d2-426f-b231-30417634f26f')\"\n",
              "            title=\"Suggest charts.\"\n",
              "            style=\"display:none;\">\n",
              "\n",
              "<svg xmlns=\"http://www.w3.org/2000/svg\" height=\"24px\"viewBox=\"0 0 24 24\"\n",
              "     width=\"24px\">\n",
              "    <g>\n",
              "        <path d=\"M19 3H5c-1.1 0-2 .9-2 2v14c0 1.1.9 2 2 2h14c1.1 0 2-.9 2-2V5c0-1.1-.9-2-2-2zM9 17H7v-7h2v7zm4 0h-2V7h2v10zm4 0h-2v-4h2v4z\"/>\n",
              "    </g>\n",
              "</svg>\n",
              "  </button>\n",
              "\n",
              "<style>\n",
              "  .colab-df-quickchart {\n",
              "    background-color: #E8F0FE;\n",
              "    border: none;\n",
              "    border-radius: 50%;\n",
              "    cursor: pointer;\n",
              "    display: none;\n",
              "    fill: #1967D2;\n",
              "    height: 32px;\n",
              "    padding: 0 0 0 0;\n",
              "    width: 32px;\n",
              "  }\n",
              "\n",
              "  .colab-df-quickchart:hover {\n",
              "    background-color: #E2EBFA;\n",
              "    box-shadow: 0px 1px 2px rgba(60, 64, 67, 0.3), 0px 1px 3px 1px rgba(60, 64, 67, 0.15);\n",
              "    fill: #174EA6;\n",
              "  }\n",
              "\n",
              "  [theme=dark] .colab-df-quickchart {\n",
              "    background-color: #3B4455;\n",
              "    fill: #D2E3FC;\n",
              "  }\n",
              "\n",
              "  [theme=dark] .colab-df-quickchart:hover {\n",
              "    background-color: #434B5C;\n",
              "    box-shadow: 0px 1px 3px 1px rgba(0, 0, 0, 0.15);\n",
              "    filter: drop-shadow(0px 1px 2px rgba(0, 0, 0, 0.3));\n",
              "    fill: #FFFFFF;\n",
              "  }\n",
              "</style>\n",
              "\n",
              "  <script>\n",
              "    async function quickchart(key) {\n",
              "      const charts = await google.colab.kernel.invokeFunction(\n",
              "          'suggestCharts', [key], {});\n",
              "    }\n",
              "    (() => {\n",
              "      let quickchartButtonEl =\n",
              "        document.querySelector('#df-6d0d6fbf-09d2-426f-b231-30417634f26f button');\n",
              "      quickchartButtonEl.style.display =\n",
              "        google.colab.kernel.accessAllowed ? 'block' : 'none';\n",
              "    })();\n",
              "  </script>\n",
              "</div>\n",
              "    </div>\n",
              "  </div>\n"
            ]
          },
          "metadata": {},
          "execution_count": 14
        }
      ]
    },
    {
      "cell_type": "code",
      "source": [
        "# Another quick way to get information\n",
        "df.info()"
      ],
      "metadata": {
        "colab": {
          "base_uri": "https://localhost:8080/"
        },
        "id": "Y0zjtPHTTV-v",
        "outputId": "c6ad9654-8051-4890-805a-3ca1611b77cf"
      },
      "execution_count": 15,
      "outputs": [
        {
          "output_type": "stream",
          "name": "stdout",
          "text": [
            "<class 'pandas.core.frame.DataFrame'>\n",
            "RangeIndex: 1521 entries, 0 to 1520\n",
            "Data columns (total 7 columns):\n",
            " #   Column                Non-Null Count  Dtype  \n",
            "---  ------                --------------  -----  \n",
            " 0   X                     1521 non-null   object \n",
            " 1   Fraction_Insertions   1521 non-null   float64\n",
            " 2   Avg_Insertion_Length  1521 non-null   float64\n",
            " 3   Avg_Deletion_Length   1521 non-null   float64\n",
            " 4   Indel_Diversity       1521 non-null   float64\n",
            " 5   Fraction_Frameshifts  1521 non-null   float64\n",
            " 6   ID                    1521 non-null   object \n",
            "dtypes: float64(5), object(2)\n",
            "memory usage: 83.3+ KB\n"
          ]
        }
      ]
    },
    {
      "cell_type": "code",
      "source": [
        "# Remove rows with missing output values\n",
        "df_data = df.dropna(subset=['Fraction_Insertions', 'Avg_Insertion_Length', 'Avg_Deletion_Length', 'Indel_Diversity', 'Fraction_Frameshifts'])\n"
      ],
      "metadata": {
        "id": "LT-47_T9NYho"
      },
      "execution_count": 16,
      "outputs": []
    },
    {
      "cell_type": "code",
      "source": [
        "\n",
        "# Create a mapping of DNA characters to integers\n",
        "dna_chars = 'ACGT'\n",
        "char_to_int = dict((c, i) for i, c in enumerate(dna_chars))\n",
        "num_chars = len(dna_chars)\n",
        "\n",
        "# row 582 has small characters\n",
        "# A -> 1,0,0,0\n",
        "# C -> 0,1,0,0\n",
        "# G -> 0,0,1,0\n",
        "# T -> 0,0,0,1\n",
        "\n",
        "# Function to one-hot encode a DNA sequence\n",
        "def one_hot_encode_sequence(sequence):\n",
        "    encoding = np.zeros((len(sequence), num_chars), dtype=int)\n",
        "    for i, char in enumerate(sequence):\n",
        "        encoding[i, char_to_int[char.upper()]] = 1\n",
        "    return encoding\n",
        "\n",
        "# Apply one-hot encoding to the 'X' column and convert to numpy array\n",
        "X = np.array([one_hot_encode_sequence(seq) for seq in df_data['X']])\n",
        "#X = [one_hot_encode_sequence(seq) for seq in df_data['X']]\n",
        "#X = X.astype(int)\n",
        "# Convert output (y) columns to numpy arrays\n",
        "y_cols = ['Fraction_Insertions', 'Avg_Insertion_Length', 'Avg_Deletion_Length', 'Indel_Diversity', 'Fraction_Frameshifts']\n",
        "#y = ['Fraction_Insertions', 'Avg_Insertion_Length', 'Avg_Deletion_Length', 'Indel_Diversity', 'Fraction_Frameshifts']\n",
        "y = df_data[y_cols].to_numpy()\n",
        "#y = y.astype(int)\n",
        "\n",
        "# Split the data into training and testing sets\n",
        "#X_train, X_test, y_train, y_test = train_test_split(X, y, test_size=0.3, random_state=42)"
      ],
      "metadata": {
        "id": "XZTWFfC_4YqL"
      },
      "execution_count": 17,
      "outputs": []
    },
    {
      "cell_type": "code",
      "execution_count": 18,
      "metadata": {
        "id": "PNdF_JXel-UZ"
      },
      "outputs": [],
      "source": [
        "# Function to get the details of numerical_column\n",
        "\n",
        "def numerical_column_details(data_frame: pd.DataFrame, column_names: list) -> None:\n",
        "    for col in column_names:\n",
        "      # Print details\n",
        "      print(f'Column name = {col}\\n\\\n",
        "      Number of unique values = {data_frame[col].nunique()}\\n\\\n",
        "      First_10_Sample_Values = {data_frame[col].unique()[:10]}\\n\\\n",
        "      Min value = {min(data_frame[col])}\\n\\\n",
        "      Max value = {max(data_frame[col])}\\n\\\n",
        "      Range = {max(data_frame[col]) - min(data_frame[col])}\\n\\\n",
        "      Mean = {data_frame[col].mean()}\\n\\\n",
        "      Median = {data_frame[col].median()}\\n\\\n",
        "      Mode = {data_frame[col].mode()}\\n\\\n",
        "      Variance = {data_frame[col].var()}\\n\\\n",
        "      Std Dev = {data_frame[col].std()}', '\\n')\n",
        "      # Plot Histogram\n",
        "      fig = data_frame[col].hist(bins=50)\n",
        "      fig.set_title(col + '_Histogram')\n",
        "      fig.set_xlabel(col)\n",
        "      fig.set_ylabel('Number of Records')\n",
        "      plt.show()"
      ]
    },
    {
      "cell_type": "code",
      "source": [
        "numerical_column_details(data_frame = df_data, column_names = y_cols)"
      ],
      "metadata": {
        "colab": {
          "base_uri": "https://localhost:8080/",
          "height": 1000
        },
        "id": "8xUHfDYZajEd",
        "outputId": "9501815f-3283-457e-f977-d88a9bb20766"
      },
      "execution_count": 19,
      "outputs": [
        {
          "output_type": "stream",
          "name": "stdout",
          "text": [
            "Column name = Fraction_Insertions\n",
            "      Number of unique values = 1520\n",
            "      First_10_Sample_Values = [0.06957155 0.28764685 0.13700384 0.09388889 0.52652498 0.12941532\n",
            " 0.40776075 0.44082165 0.04853581 0.1183356 ]\n",
            "      Min value = 0.00116764\n",
            "      Max value = 0.831198085\n",
            "      Range = 0.830030445\n",
            "      Mean = 0.20874204771860616\n",
            "      Median = 0.163327058\n",
            "      Mode = 0    0.041667\n",
            "Name: Fraction_Insertions, dtype: float64\n",
            "      Variance = 0.023732177388228068\n",
            "      Std Dev = 0.15405251503376394 \n",
            "\n"
          ]
        },
        {
          "output_type": "display_data",
          "data": {
            "text/plain": [
              "<Figure size 800x550 with 1 Axes>"
            ],
            "image/png": "[encoded data removed]"
          },
          "metadata": {}
        },
        {
          "output_type": "stream",
          "name": "stdout",
          "text": [
            "Column name = Avg_Insertion_Length\n",
            "      Number of unique values = 1506\n",
            "      First_10_Sample_Values = [2.09758657 1.04280156 1.11650485 1.65408805 1.04542979 1.47055151\n",
            " 1.01819792 1.03712121 1.73308271 1.70138726]\n",
            "      Min value = 0.0\n",
            "      Max value = 20.7738817\n",
            "      Range = 20.7738817\n",
            "      Mean = 1.4187540658809992\n",
            "      Median = 1.172268908\n",
            "      Mode = 0    1.0\n",
            "Name: Avg_Insertion_Length, dtype: float64\n",
            "      Variance = 0.8924500877685387\n",
            "      Std Dev = 0.9446957646610568 \n",
            "\n"
          ]
        },
        {
          "output_type": "display_data",
          "data": {
            "text/plain": [
              "<Figure size 800x550 with 1 Axes>"
            ],
            "image/png": "[encoded data removed]"
          },
          "metadata": {}
        },
        {
          "output_type": "stream",
          "name": "stdout",
          "text": [
            "Column name = Avg_Deletion_Length\n",
            "      Number of unique values = 1521\n",
            "      First_10_Sample_Values = [ 4.30184404 10.81444386  9.88888889  4.52781211  6.41564363  5.46473741\n",
            "  7.56563098  9.59151515  4.12430515 10.88921233]\n",
            "      Min value = 2.110951518\n",
            "      Max value = 46.02702703\n",
            "      Range = 43.916075512\n",
            "      Mean = 7.4613997709664694\n",
            "      Median = 7.052886121\n",
            "      Mode = 0        2.110952\n",
            "1        2.346479\n",
            "2        2.430394\n",
            "3        2.498150\n",
            "4        2.595627\n",
            "          ...    \n",
            "1516    27.501096\n",
            "1517    29.364726\n",
            "1518    31.632009\n",
            "1519    31.704573\n",
            "1520    46.027027\n",
            "Name: Avg_Deletion_Length, Length: 1521, dtype: float64\n",
            "      Variance = 9.240960110141211\n",
            "      Std Dev = 3.039894753135577 \n",
            "\n"
          ]
        },
        {
          "output_type": "display_data",
          "data": {
            "text/plain": [
              "<Figure size 800x550 with 1 Axes>"
            ],
            "image/png": "[encoded data removed]"
          },
          "metadata": {}
        },
        {
          "output_type": "stream",
          "name": "stdout",
          "text": [
            "Column name = Indel_Diversity\n",
            "      Number of unique values = 1521\n",
            "      First_10_Sample_Values = [3.53653788 3.87116471 3.9312977  3.52306661 2.82810099 4.57305416\n",
            " 3.56327733 3.28170716 3.67715899 4.62544604]\n",
            "      Min value = 0.86545228\n",
            "      Max value = 5.548347734\n",
            "      Range = 4.6828954540000005\n",
            "      Mean = 3.803833699739646\n",
            "      Median = 3.865802918\n",
            "      Mode = 0       0.865452\n",
            "1       1.077791\n",
            "2       1.151684\n",
            "3       1.290267\n",
            "4       1.519788\n",
            "          ...   \n",
            "1516    5.360632\n",
            "1517    5.412222\n",
            "1518    5.432595\n",
            "1519    5.437249\n",
            "1520    5.548348\n",
            "Name: Indel_Diversity, Length: 1521, dtype: float64\n",
            "      Variance = 0.4942210742348324\n",
            "      Std Dev = 0.7030085875967892 \n",
            "\n"
          ]
        },
        {
          "output_type": "display_data",
          "data": {
            "text/plain": [
              "<Figure size 800x550 with 1 Axes>"
            ],
            "image/png": "[encoded data removed]"
          },
          "metadata": {}
        },
        {
          "output_type": "stream",
          "name": "stdout",
          "text": [
            "Column name = Fraction_Frameshifts\n",
            "      Number of unique values = 1521\n",
            "      First_10_Sample_Values = [0.80737468 0.66569579 0.68482252 0.75300261 0.88721443 0.53815973\n",
            " 0.71663687 0.72129112 0.75938205 0.63759922]\n",
            "      Min value = 0.00167641\n",
            "      Max value = 0.95430482\n",
            "      Range = 0.9526284100000001\n",
            "      Mean = 0.6970102468770546\n",
            "      Median = 0.715334421\n",
            "      Mode = 0       0.001676\n",
            "1       0.004541\n",
            "2       0.014971\n",
            "3       0.024783\n",
            "4       0.063313\n",
            "          ...   \n",
            "1516    0.924236\n",
            "1517    0.931205\n",
            "1518    0.934886\n",
            "1519    0.940091\n",
            "1520    0.954305\n",
            "Name: Fraction_Frameshifts, Length: 1521, dtype: float64\n",
            "      Variance = 0.016247590655714562\n",
            "      Std Dev = 0.12746603726371414 \n",
            "\n"
          ]
        },
        {
          "output_type": "display_data",
          "data": {
            "text/plain": [
              "<Figure size 800x550 with 1 Axes>"
            ],
            "image/png": "[encoded data removed]"
          },
          "metadata": {}
        }
      ]
    },
    {
      "cell_type": "code",
      "source": [
        "y[:,0]"
      ],
      "metadata": {
        "id": "Nx5p53wf6bMl",
        "colab": {
          "base_uri": "https://localhost:8080/"
        },
        "outputId": "a9c53655-b2b2-4558-c082-64e124305940"
      },
      "execution_count": 20,
      "outputs": [
        {
          "output_type": "execute_result",
          "data": {
            "text/plain": [
              "array([0.06957155, 0.28764685, 0.13700384, ..., 0.42143906, 0.20627727,\n",
              "       0.28411748])"
            ]
          },
          "metadata": {},
          "execution_count": 20
        }
      ]
    },
    {
      "cell_type": "code",
      "source": [
        "X = X.reshape(1521,92)\n",
        "y1  = y[:,0]\n",
        "print(y1[0:2])"
      ],
      "metadata": {
        "id": "EOpDnuiBGakF",
        "colab": {
          "base_uri": "https://localhost:8080/"
        },
        "outputId": "fe795589-58dd-437c-cc7b-310de5053243"
      },
      "execution_count": 21,
      "outputs": [
        {
          "output_type": "stream",
          "name": "stdout",
          "text": [
            "[0.06957155 0.28764685]\n"
          ]
        }
      ]
    },
    {
      "cell_type": "code",
      "source": [
        "# from sklearn.preprocessing import MinMaxScaler\n",
        "# # Create a MinMaxScaler object for y values\n",
        "# scaler = MinMaxScaler()\n",
        "\n",
        "# # Fit the scaler on your y data (e.g., y_train)\n",
        "# scaler.fit(y1.reshape(-1, 1))  # Reshape to a 2D array\n",
        "\n",
        "# # Transform the y data\n",
        "# y1_scaled = scaler.transform(y1.reshape(-1, 1)).reshape(-1)"
      ],
      "metadata": {
        "id": "4EyOobPptwnd"
      },
      "execution_count": 22,
      "outputs": []
    },
    {
      "cell_type": "code",
      "source": [
        "# print(y1_scaled[0:2])"
      ],
      "metadata": {
        "id": "zt63F5ZtuhKt"
      },
      "execution_count": 23,
      "outputs": []
    },
    {
      "cell_type": "code",
      "source": [
        "# Split data into train and test (Validation in our case)\n",
        "X_train, X_test, y_train, y_test = train_test_split(X, y1, random_state=1, test_size=0.20)"
      ],
      "metadata": {
        "id": "qbbJQGtJO2-E"
      },
      "execution_count": 24,
      "outputs": []
    },
    {
      "cell_type": "code",
      "source": [
        "print(f\"Shape of Xtrain: {X_train.shape}\\n\\\n",
        "Shape of Xtest: {X_test.shape}\\n\\\n",
        "Shape of ytrain: {y_train.shape}\\n\\\n",
        "Shape of ytest: {y_test.shape}\")"
      ],
      "metadata": {
        "colab": {
          "base_uri": "https://localhost:8080/"
        },
        "id": "gxzJHHDh6czz",
        "outputId": "e357fde9-5fcf-4e50-f414-368c2a5af7a8"
      },
      "execution_count": 25,
      "outputs": [
        {
          "output_type": "stream",
          "name": "stdout",
          "text": [
            "Shape of Xtrain: (1216, 92)\n",
            "Shape of Xtest: (305, 92)\n",
            "Shape of ytrain: (1216,)\n",
            "Shape of ytest: (305,)\n"
          ]
        }
      ]
    },
    {
      "cell_type": "code",
      "source": [
        "X_train.shape"
      ],
      "metadata": {
        "colab": {
          "base_uri": "https://localhost:8080/"
        },
        "id": "waXld-WsCS9j",
        "outputId": "b94cf4d2-f5cf-407a-fef1-d1afc0d8d9f1"
      },
      "execution_count": 26,
      "outputs": [
        {
          "output_type": "execute_result",
          "data": {
            "text/plain": [
              "(1216, 92)"
            ]
          },
          "metadata": {},
          "execution_count": 26
        }
      ]
    },
    {
      "cell_type": "code",
      "source": [
        "xgb_model1 = xgb.XGBRegressor(booster = \"dart\", max_depth = 1, n_estimators= 20, learning_rate =1.0, max_leaves = 10, )\n",
        "#xgb_model = xgb.XGBRegressor()"
      ],
      "metadata": {
        "id": "2SZH8TWuB6BS"
      },
      "execution_count": 27,
      "outputs": []
    },
    {
      "cell_type": "code",
      "source": [
        "xgb_model1.fit(X_train, y_train)"
      ],
      "metadata": {
        "colab": {
          "base_uri": "https://localhost:8080/",
          "height": 248
        },
        "id": "KR8FmFKFB70X",
        "outputId": "3c473daf-501f-4e2d-944f-ab2ec19563ec"
      },
      "execution_count": 28,
      "outputs": [
        {
          "output_type": "execute_result",
          "data": {
            "text/plain": [
              "XGBRegressor(base_score=None, booster='dart', callbacks=None,\n",
              "             colsample_bylevel=None, colsample_bynode=None,\n",
              "             colsample_bytree=None, early_stopping_rounds=None,\n",
              "             enable_categorical=False, eval_metric=None, feature_types=None,\n",
              "             gamma=None, gpu_id=None, grow_policy=None, importance_type=None,\n",
              "             interaction_constraints=None, learning_rate=1.0, max_bin=None,\n",
              "             max_cat_threshold=None, max_cat_to_onehot=None,\n",
              "             max_delta_step=None, max_depth=1, max_leaves=10,\n",
              "             min_child_weight=None, missing=nan, monotone_constraints=None,\n",
              "             n_estimators=20, n_jobs=None, num_parallel_tree=None,\n",
              "             predictor=None, random_state=None, ...)"
            ],
            "text/html": [
              "<style>#sk-container-id-1 {color: black;background-color: white;}#sk-container-id-1 pre{padding: 0;}#sk-container-id-1 div.sk-toggleable {background-color: white;}#sk-container-id-1 label.sk-toggleable__label {cursor: pointer;display: block;width: 100%;margin-bottom: 0;padding: 0.3em;box-sizing: border-box;text-align: center;}#sk-container-id-1 label.sk-toggleable__label-arrow:before {content: \"▸\";float: left;margin-right: 0.25em;color: #696969;}#sk-container-id-1 label.sk-toggleable__label-arrow:hover:before {color: black;}#sk-container-id-1 div.sk-estimator:hover label.sk-toggleable__label-arrow:before {color: black;}#sk-container-id-1 div.sk-toggleable__content {max-height: 0;max-width: 0;overflow: hidden;text-align: left;background-color: #f0f8ff;}#sk-container-id-1 div.sk-toggleable__content pre {margin: 0.2em;color: black;border-radius: 0.25em;background-color: #f0f8ff;}#sk-container-id-1 input.sk-toggleable__control:checked~div.sk-toggleable__content {max-height: 200px;max-width: 100%;overflow: auto;}#sk-container-id-1 input.sk-toggleable__control:checked~label.sk-toggleable__label-arrow:before {content: \"▾\";}#sk-container-id-1 div.sk-estimator input.sk-toggleable__control:checked~label.sk-toggleable__label {background-color: #d4ebff;}#sk-container-id-1 div.sk-label input.sk-toggleable__control:checked~label.sk-toggleable__label {background-color: #d4ebff;}#sk-container-id-1 input.sk-hidden--visually {border: 0;clip: rect(1px 1px 1px 1px);clip: rect(1px, 1px, 1px, 1px);height: 1px;margin: -1px;overflow: hidden;padding: 0;position: absolute;width: 1px;}#sk-container-id-1 div.sk-estimator {font-family: monospace;background-color: #f0f8ff;border: 1px dotted black;border-radius: 0.25em;box-sizing: border-box;margin-bottom: 0.5em;}#sk-container-id-1 div.sk-estimator:hover {background-color: #d4ebff;}#sk-container-id-1 div.sk-parallel-item::after {content: \"\";width: 100%;border-bottom: 1px solid gray;flex-grow: 1;}#sk-container-id-1 div.sk-label:hover label.sk-toggleable__label {background-color: #d4ebff;}#sk-container-id-1 div.sk-serial::before {content: \"\";position: absolute;border-left: 1px solid gray;box-sizing: border-box;top: 0;bottom: 0;left: 50%;z-index: 0;}#sk-container-id-1 div.sk-serial {display: flex;flex-direction: column;align-items: center;background-color: white;padding-right: 0.2em;padding-left: 0.2em;position: relative;}#sk-container-id-1 div.sk-item {position: relative;z-index: 1;}#sk-container-id-1 div.sk-parallel {display: flex;align-items: stretch;justify-content: center;background-color: white;position: relative;}#sk-container-id-1 div.sk-item::before, #sk-container-id-1 div.sk-parallel-item::before {content: \"\";position: absolute;border-left: 1px solid gray;box-sizing: border-box;top: 0;bottom: 0;left: 50%;z-index: -1;}#sk-container-id-1 div.sk-parallel-item {display: flex;flex-direction: column;z-index: 1;position: relative;background-color: white;}#sk-container-id-1 div.sk-parallel-item:first-child::after {align-self: flex-end;width: 50%;}#sk-container-id-1 div.sk-parallel-item:last-child::after {align-self: flex-start;width: 50%;}#sk-container-id-1 div.sk-parallel-item:only-child::after {width: 0;}#sk-container-id-1 div.sk-dashed-wrapped {border: 1px dashed gray;margin: 0 0.4em 0.5em 0.4em;box-sizing: border-box;padding-bottom: 0.4em;background-color: white;}#sk-container-id-1 div.sk-label label {font-family: monospace;font-weight: bold;display: inline-block;line-height: 1.2em;}#sk-container-id-1 div.sk-label-container {text-align: center;}#sk-container-id-1 div.sk-container {/* jupyter's `normalize.less` sets `[hidden] { display: none; }` but bootstrap.min.css set `[hidden] { display: none !important; }` so we also need the `!important` here to be able to override the default hidden behavior on the sphinx rendered scikit-learn.org. See: https://github.com/scikit-learn/scikit-learn/issues/21755 */display: inline-block !important;position: relative;}#sk-container-id-1 div.sk-text-repr-fallback {display: none;}</style><div id=\"sk-container-id-1\" class=\"sk-top-container\"><div class=\"sk-text-repr-fallback\"><pre>XGBRegressor(base_score=None, booster=&#x27;dart&#x27;, callbacks=None,\n",
              "             colsample_bylevel=None, colsample_bynode=None,\n",
              "             colsample_bytree=None, early_stopping_rounds=None,\n",
              "             enable_categorical=False, eval_metric=None, feature_types=None,\n",
              "             gamma=None, gpu_id=None, grow_policy=None, importance_type=None,\n",
              "             interaction_constraints=None, learning_rate=1.0, max_bin=None,\n",
              "             max_cat_threshold=None, max_cat_to_onehot=None,\n",
              "             max_delta_step=None, max_depth=1, max_leaves=10,\n",
              "             min_child_weight=None, missing=nan, monotone_constraints=None,\n",
              "             n_estimators=20, n_jobs=None, num_parallel_tree=None,\n",
              "             predictor=None, random_state=None, ...)</pre><b>In a Jupyter environment, please rerun this cell to show the HTML representation or trust the notebook. <br />On GitHub, the HTML representation is unable to render, please try loading this page with nbviewer.org.</b></div><div class=\"sk-container\" hidden><div class=\"sk-item\"><div class=\"sk-estimator sk-toggleable\"><input class=\"sk-toggleable__control sk-hidden--visually\" id=\"sk-estimator-id-1\" type=\"checkbox\" checked><label for=\"sk-estimator-id-1\" class=\"sk-toggleable__label sk-toggleable__label-arrow\">XGBRegressor</label><div class=\"sk-toggleable__content\"><pre>XGBRegressor(base_score=None, booster=&#x27;dart&#x27;, callbacks=None,\n",
              "             colsample_bylevel=None, colsample_bynode=None,\n",
              "             colsample_bytree=None, early_stopping_rounds=None,\n",
              "             enable_categorical=False, eval_metric=None, feature_types=None,\n",
              "             gamma=None, gpu_id=None, grow_policy=None, importance_type=None,\n",
              "             interaction_constraints=None, learning_rate=1.0, max_bin=None,\n",
              "             max_cat_threshold=None, max_cat_to_onehot=None,\n",
              "             max_delta_step=None, max_depth=1, max_leaves=10,\n",
              "             min_child_weight=None, missing=nan, monotone_constraints=None,\n",
              "             n_estimators=20, n_jobs=None, num_parallel_tree=None,\n",
              "             predictor=None, random_state=None, ...)</pre></div></div></div></div></div>"
            ]
          },
          "metadata": {},
          "execution_count": 28
        }
      ]
    },
    {
      "cell_type": "code",
      "source": [
        "# Making predictions on the test data\n",
        "y_pred = xgb_model1.predict(X_test)"
      ],
      "metadata": {
        "id": "yq42Fl_LCEE8"
      },
      "execution_count": 30,
      "outputs": []
    },
    {
      "cell_type": "code",
      "source": [
        "# y_pred_original = scaler.inverse_transform(y_pred.reshape(-1, 1)).reshape(-1)\n",
        "# y_test_original = scaler.inverse_transform(y_test.reshape(-1, 1)).reshape(-1)"
      ],
      "metadata": {
        "id": "RhRjYZDTvVxz"
      },
      "execution_count": null,
      "outputs": []
    },
    {
      "cell_type": "code",
      "source": [
        "mse = mean_squared_error(y_test, y_pred)\n",
        "print(\"Mean Squared Error:\", mse)"
      ],
      "metadata": {
        "colab": {
          "base_uri": "https://localhost:8080/"
        },
        "id": "7Al0RdkkCHUI",
        "outputId": "8a445056-e988-45fb-a109-c0787b22e629"
      },
      "execution_count": 31,
      "outputs": [
        {
          "output_type": "stream",
          "name": "stdout",
          "text": [
            "Mean Squared Error: 0.01162182657836444\n"
          ]
        }
      ]
    },
    {
      "cell_type": "code",
      "source": [
        "r2 = r2_score(y_test, y_pred)\n",
        "print(\"R2 Score:\", r2)"
      ],
      "metadata": {
        "colab": {
          "base_uri": "https://localhost:8080/"
        },
        "id": "DzRzp07THnCO",
        "outputId": "61368f55-cb57-4322-a73e-f4541add8e69"
      },
      "execution_count": 32,
      "outputs": [
        {
          "output_type": "stream",
          "name": "stdout",
          "text": [
            "R2 Score: 0.5024099734445283\n"
          ]
        }
      ]
    },
    {
      "cell_type": "code",
      "source": [
        "# Calculate the Spearman rank correlation coefficient\n",
        "spearman_corr= spearmanr(y_test, y_pred)\n",
        "\n",
        "# Print the Spearman rank correlation coefficient\n",
        "print(\"R-Spearman:\", spearman_corr)"
      ],
      "metadata": {
        "colab": {
          "base_uri": "https://localhost:8080/"
        },
        "id": "Qe5ad45ZvVqJ",
        "outputId": "e0085bd2-9df5-4225-a21b-e48e8c75dcde"
      },
      "execution_count": 33,
      "outputs": [
        {
          "output_type": "stream",
          "name": "stdout",
          "text": [
            "R-Spearman: SignificanceResult(statistic=0.7548535892506821, pvalue=1.9159885702516854e-57)\n"
          ]
        }
      ]
    },
    {
      "cell_type": "code",
      "source": [
        "# Assuming 'model' is your trained machine learning model\n",
        "with open('model1.pkl', 'wb') as file:\n",
        "    pickle.dump(xgb_model1, file)"
      ],
      "metadata": {
        "id": "8rJXXqah1L3F"
      },
      "execution_count": 109,
      "outputs": []
    },
    {
      "cell_type": "code",
      "source": [
        "# # Assuming 'model' is your trained machine learning model\n",
        "# model_path = 'C:\\\\Users\\Tam\\\\xgb_model1.pkl'  # Replace with your desired file path and filename\n",
        "# print(\"Before saving\")\n",
        "\n",
        "# with open(model_path, 'wb') as file:\n",
        "#     pickle.dump(xgb_model1, file)\n",
        "\n",
        "# print(model_path)"
      ],
      "metadata": {
        "colab": {
          "base_uri": "https://localhost:8080/"
        },
        "outputId": "c787a472-986e-4391-a982-b68e39356404",
        "id": "oPQi4dTqzNtI"
      },
      "execution_count": 108,
      "outputs": [
        {
          "output_type": "stream",
          "name": "stdout",
          "text": [
            "Before saving\n",
            "C:\\Users\\Tam\\xgb_model1.pkl\n"
          ]
        }
      ]
    },
    {
      "cell_type": "markdown",
      "metadata": {
        "id": "EZKYKfvv7O9V"
      },
      "source": [
        "### XGBoost\n",
        "\n",
        "https://xgboost.readthedocs.io/en/latest/tutorials/model.html"
      ]
    },
    {
      "cell_type": "markdown",
      "metadata": {
        "id": "Qppjtk32FXaW"
      },
      "source": [
        "- Optimized implementation of Gradient Boosting is known as XGBoost, which stands for Extreme Gradient Boosting.\n",
        "- It aims at being extremely fast, scalable\n",
        "and portable"
      ]
    },
    {
      "cell_type": "code",
      "source": [
        "X = X.reshape(1521,92)\n",
        "y1  = y[:,1]"
      ],
      "metadata": {
        "id": "ApJjWEXArukT"
      },
      "execution_count": 74,
      "outputs": []
    },
    {
      "cell_type": "code",
      "source": [
        "# Split data into train and test (Validation in our case)\n",
        "X_train, X_test, y_train, y_test = train_test_split(X, y1, random_state=1, test_size=0.20)"
      ],
      "metadata": {
        "id": "ZNVHpo8hsVxR"
      },
      "execution_count": 75,
      "outputs": []
    },
    {
      "cell_type": "code",
      "source": [
        "print(f\"Shape of Xtrain: {X_train.shape}\\n\\\n",
        "Shape of Xtest: {X_test.shape}\\n\\\n",
        "Shape of ytrain: {y_train.shape}\\n\\\n",
        "Shape of ytest: {y_test.shape}\")"
      ],
      "metadata": {
        "id": "VEkYf4bMs2Jc",
        "colab": {
          "base_uri": "https://localhost:8080/"
        },
        "outputId": "0e0c0afd-41b9-4ee4-82da-190f0ac433bc"
      },
      "execution_count": 76,
      "outputs": [
        {
          "output_type": "stream",
          "name": "stdout",
          "text": [
            "Shape of Xtrain: (1216, 92)\n",
            "Shape of Xtest: (305, 92)\n",
            "Shape of ytrain: (1216,)\n",
            "Shape of ytest: (305,)\n"
          ]
        }
      ]
    },
    {
      "cell_type": "code",
      "source": [
        "xgb_model2 = xgb.XGBRegressor(booster = \"dart\", max_depth = 4, n_estimators= 60, learning_rate = 1.2, max_leaves = 10, )\n",
        "#xgb_model = xgb.XGBRegressor()"
      ],
      "metadata": {
        "id": "olb0JgYLs6zz"
      },
      "execution_count": 77,
      "outputs": []
    },
    {
      "cell_type": "code",
      "source": [
        "xgb_model2.fit(X_train, y_train)"
      ],
      "metadata": {
        "id": "5iuNf1Zhs-24",
        "colab": {
          "base_uri": "https://localhost:8080/",
          "height": 248
        },
        "outputId": "6109fe2d-aec2-4fc1-8eac-4b26086d040f"
      },
      "execution_count": 78,
      "outputs": [
        {
          "output_type": "execute_result",
          "data": {
            "text/plain": [
              "XGBRegressor(base_score=None, booster='dart', callbacks=None,\n",
              "             colsample_bylevel=None, colsample_bynode=None,\n",
              "             colsample_bytree=None, early_stopping_rounds=None,\n",
              "             enable_categorical=False, eval_metric=None, feature_types=None,\n",
              "             gamma=None, gpu_id=None, grow_policy=None, importance_type=None,\n",
              "             interaction_constraints=None, learning_rate=1.2, max_bin=None,\n",
              "             max_cat_threshold=None, max_cat_to_onehot=None,\n",
              "             max_delta_step=None, max_depth=4, max_leaves=10,\n",
              "             min_child_weight=None, missing=nan, monotone_constraints=None,\n",
              "             n_estimators=60, n_jobs=None, num_parallel_tree=None,\n",
              "             predictor=None, random_state=None, ...)"
            ],
            "text/html": [
              "<style>#sk-container-id-6 {color: black;background-color: white;}#sk-container-id-6 pre{padding: 0;}#sk-container-id-6 div.sk-toggleable {background-color: white;}#sk-container-id-6 label.sk-toggleable__label {cursor: pointer;display: block;width: 100%;margin-bottom: 0;padding: 0.3em;box-sizing: border-box;text-align: center;}#sk-container-id-6 label.sk-toggleable__label-arrow:before {content: \"▸\";float: left;margin-right: 0.25em;color: #696969;}#sk-container-id-6 label.sk-toggleable__label-arrow:hover:before {color: black;}#sk-container-id-6 div.sk-estimator:hover label.sk-toggleable__label-arrow:before {color: black;}#sk-container-id-6 div.sk-toggleable__content {max-height: 0;max-width: 0;overflow: hidden;text-align: left;background-color: #f0f8ff;}#sk-container-id-6 div.sk-toggleable__content pre {margin: 0.2em;color: black;border-radius: 0.25em;background-color: #f0f8ff;}#sk-container-id-6 input.sk-toggleable__control:checked~div.sk-toggleable__content {max-height: 200px;max-width: 100%;overflow: auto;}#sk-container-id-6 input.sk-toggleable__control:checked~label.sk-toggleable__label-arrow:before {content: \"▾\";}#sk-container-id-6 div.sk-estimator input.sk-toggleable__control:checked~label.sk-toggleable__label {background-color: #d4ebff;}#sk-container-id-6 div.sk-label input.sk-toggleable__control:checked~label.sk-toggleable__label {background-color: #d4ebff;}#sk-container-id-6 input.sk-hidden--visually {border: 0;clip: rect(1px 1px 1px 1px);clip: rect(1px, 1px, 1px, 1px);height: 1px;margin: -1px;overflow: hidden;padding: 0;position: absolute;width: 1px;}#sk-container-id-6 div.sk-estimator {font-family: monospace;background-color: #f0f8ff;border: 1px dotted black;border-radius: 0.25em;box-sizing: border-box;margin-bottom: 0.5em;}#sk-container-id-6 div.sk-estimator:hover {background-color: #d4ebff;}#sk-container-id-6 div.sk-parallel-item::after {content: \"\";width: 100%;border-bottom: 1px solid gray;flex-grow: 1;}#sk-container-id-6 div.sk-label:hover label.sk-toggleable__label {background-color: #d4ebff;}#sk-container-id-6 div.sk-serial::before {content: \"\";position: absolute;border-left: 1px solid gray;box-sizing: border-box;top: 0;bottom: 0;left: 50%;z-index: 0;}#sk-container-id-6 div.sk-serial {display: flex;flex-direction: column;align-items: center;background-color: white;padding-right: 0.2em;padding-left: 0.2em;position: relative;}#sk-container-id-6 div.sk-item {position: relative;z-index: 1;}#sk-container-id-6 div.sk-parallel {display: flex;align-items: stretch;justify-content: center;background-color: white;position: relative;}#sk-container-id-6 div.sk-item::before, #sk-container-id-6 div.sk-parallel-item::before {content: \"\";position: absolute;border-left: 1px solid gray;box-sizing: border-box;top: 0;bottom: 0;left: 50%;z-index: -1;}#sk-container-id-6 div.sk-parallel-item {display: flex;flex-direction: column;z-index: 1;position: relative;background-color: white;}#sk-container-id-6 div.sk-parallel-item:first-child::after {align-self: flex-end;width: 50%;}#sk-container-id-6 div.sk-parallel-item:last-child::after {align-self: flex-start;width: 50%;}#sk-container-id-6 div.sk-parallel-item:only-child::after {width: 0;}#sk-container-id-6 div.sk-dashed-wrapped {border: 1px dashed gray;margin: 0 0.4em 0.5em 0.4em;box-sizing: border-box;padding-bottom: 0.4em;background-color: white;}#sk-container-id-6 div.sk-label label {font-family: monospace;font-weight: bold;display: inline-block;line-height: 1.2em;}#sk-container-id-6 div.sk-label-container {text-align: center;}#sk-container-id-6 div.sk-container {/* jupyter's `normalize.less` sets `[hidden] { display: none; }` but bootstrap.min.css set `[hidden] { display: none !important; }` so we also need the `!important` here to be able to override the default hidden behavior on the sphinx rendered scikit-learn.org. See: https://github.com/scikit-learn/scikit-learn/issues/21755 */display: inline-block !important;position: relative;}#sk-container-id-6 div.sk-text-repr-fallback {display: none;}</style><div id=\"sk-container-id-6\" class=\"sk-top-container\"><div class=\"sk-text-repr-fallback\"><pre>XGBRegressor(base_score=None, booster=&#x27;dart&#x27;, callbacks=None,\n",
              "             colsample_bylevel=None, colsample_bynode=None,\n",
              "             colsample_bytree=None, early_stopping_rounds=None,\n",
              "             enable_categorical=False, eval_metric=None, feature_types=None,\n",
              "             gamma=None, gpu_id=None, grow_policy=None, importance_type=None,\n",
              "             interaction_constraints=None, learning_rate=1.2, max_bin=None,\n",
              "             max_cat_threshold=None, max_cat_to_onehot=None,\n",
              "             max_delta_step=None, max_depth=4, max_leaves=10,\n",
              "             min_child_weight=None, missing=nan, monotone_constraints=None,\n",
              "             n_estimators=60, n_jobs=None, num_parallel_tree=None,\n",
              "             predictor=None, random_state=None, ...)</pre><b>In a Jupyter environment, please rerun this cell to show the HTML representation or trust the notebook. <br />On GitHub, the HTML representation is unable to render, please try loading this page with nbviewer.org.</b></div><div class=\"sk-container\" hidden><div class=\"sk-item\"><div class=\"sk-estimator sk-toggleable\"><input class=\"sk-toggleable__control sk-hidden--visually\" id=\"sk-estimator-id-6\" type=\"checkbox\" checked><label for=\"sk-estimator-id-6\" class=\"sk-toggleable__label sk-toggleable__label-arrow\">XGBRegressor</label><div class=\"sk-toggleable__content\"><pre>XGBRegressor(base_score=None, booster=&#x27;dart&#x27;, callbacks=None,\n",
              "             colsample_bylevel=None, colsample_bynode=None,\n",
              "             colsample_bytree=None, early_stopping_rounds=None,\n",
              "             enable_categorical=False, eval_metric=None, feature_types=None,\n",
              "             gamma=None, gpu_id=None, grow_policy=None, importance_type=None,\n",
              "             interaction_constraints=None, learning_rate=1.2, max_bin=None,\n",
              "             max_cat_threshold=None, max_cat_to_onehot=None,\n",
              "             max_delta_step=None, max_depth=4, max_leaves=10,\n",
              "             min_child_weight=None, missing=nan, monotone_constraints=None,\n",
              "             n_estimators=60, n_jobs=None, num_parallel_tree=None,\n",
              "             predictor=None, random_state=None, ...)</pre></div></div></div></div></div>"
            ]
          },
          "metadata": {},
          "execution_count": 78
        }
      ]
    },
    {
      "cell_type": "code",
      "source": [
        "# Making predictions on the test data\n",
        "y_pred = xgb_model2.predict(X_test)"
      ],
      "metadata": {
        "id": "mPN_CEkktGSJ"
      },
      "execution_count": 79,
      "outputs": []
    },
    {
      "cell_type": "code",
      "source": [
        "mse = mean_squared_error(y_test, y_pred)\n",
        "print(\"Mean Squared Error:\", mse)"
      ],
      "metadata": {
        "id": "vuhfta5MtJjy",
        "colab": {
          "base_uri": "https://localhost:8080/"
        },
        "outputId": "9a5df924-28d5-46ab-8f3a-a19c14c6cbac"
      },
      "execution_count": 80,
      "outputs": [
        {
          "output_type": "stream",
          "name": "stdout",
          "text": [
            "Mean Squared Error: 2.4871018389609865\n"
          ]
        }
      ]
    },
    {
      "cell_type": "code",
      "source": [
        "r2 = r2_score(y_test, y_pred)\n",
        "print(\"R2 Score:\", r2)"
      ],
      "metadata": {
        "id": "iBKH2m53tN-F",
        "colab": {
          "base_uri": "https://localhost:8080/"
        },
        "outputId": "093bb3cc-c085-40db-d05f-fc0a01329b38"
      },
      "execution_count": 81,
      "outputs": [
        {
          "output_type": "stream",
          "name": "stdout",
          "text": [
            "R2 Score: -0.23496950427138708\n"
          ]
        }
      ]
    },
    {
      "cell_type": "code",
      "source": [
        "m1 = np.median(y1)\n",
        "\n",
        "y_pred_acc_inserlen= np.where(y_pred > m1, 1, 0)\n",
        "y_test_acc_inserlen= np.where(y_test > m1, 1, 0)\n",
        "# Calculate accuracy\n",
        "accuracy = accuracy_score(y_test_acc_inserlen, y_pred_acc_inserlen)\n",
        "\n",
        "print(\"Accuracy:\", accuracy)"
      ],
      "metadata": {
        "id": "rnS0HzIPrPmI",
        "colab": {
          "base_uri": "https://localhost:8080/"
        },
        "outputId": "3c0b81ef-fc6b-44fd-f28c-ee81ea807353"
      },
      "execution_count": 82,
      "outputs": [
        {
          "output_type": "stream",
          "name": "stdout",
          "text": [
            "Accuracy: 0.6032786885245902\n"
          ]
        }
      ]
    },
    {
      "cell_type": "code",
      "source": [
        "# Assuming 'model' is your trained machine learning model\n",
        "with open('model2.pkl', 'wb') as file:\n",
        "    pickle.dump(xgb_model2, file)"
      ],
      "metadata": {
        "id": "Mxjyp6CQ1Wxn"
      },
      "execution_count": 111,
      "outputs": []
    },
    {
      "cell_type": "code",
      "source": [
        "X = X.reshape(1521,92)\n",
        "y1  = y[:,2]"
      ],
      "metadata": {
        "id": "w_B5KwuW222q"
      },
      "execution_count": 83,
      "outputs": []
    },
    {
      "cell_type": "code",
      "source": [
        "# Split data into train and test (Validation in our case)\n",
        "X_train, X_test, y_train, y_test = train_test_split(X, y1, random_state=1, test_size=0.20)"
      ],
      "metadata": {
        "id": "5sCMYUTZ3AHg"
      },
      "execution_count": 84,
      "outputs": []
    },
    {
      "cell_type": "code",
      "source": [
        "print(f\"Shape of Xtrain: {X_train.shape}\\n\\\n",
        "Shape of Xtest: {X_test.shape}\\n\\\n",
        "Shape of ytrain: {y_train.shape}\\n\\\n",
        "Shape of ytest: {y_test.shape}\")"
      ],
      "metadata": {
        "id": "zevlrOfW3D0c",
        "colab": {
          "base_uri": "https://localhost:8080/"
        },
        "outputId": "84a3fafa-41ef-4f3d-dcf5-50f9f75c270a"
      },
      "execution_count": 85,
      "outputs": [
        {
          "output_type": "stream",
          "name": "stdout",
          "text": [
            "Shape of Xtrain: (1216, 92)\n",
            "Shape of Xtest: (305, 92)\n",
            "Shape of ytrain: (1216,)\n",
            "Shape of ytest: (305,)\n"
          ]
        }
      ]
    },
    {
      "cell_type": "code",
      "source": [
        "xgb_model3 = xgb.XGBRegressor(booster = \"dart\", max_depth = 1, n_estimators= 10, learning_rate = 0.2, max_leaves = 20, )\n",
        "#xgb_model = xgb.XGBRegressor()"
      ],
      "metadata": {
        "id": "2MlbLV223IEx"
      },
      "execution_count": 86,
      "outputs": []
    },
    {
      "cell_type": "code",
      "source": [
        "xgb_model3.fit(X_train, y_train)"
      ],
      "metadata": {
        "id": "kIMAC1LY3dVy",
        "colab": {
          "base_uri": "https://localhost:8080/",
          "height": 248
        },
        "outputId": "bf49e075-24d1-470e-be02-b0152db0fe7a"
      },
      "execution_count": 87,
      "outputs": [
        {
          "output_type": "execute_result",
          "data": {
            "text/plain": [
              "XGBRegressor(base_score=None, booster='dart', callbacks=None,\n",
              "             colsample_bylevel=None, colsample_bynode=None,\n",
              "             colsample_bytree=None, early_stopping_rounds=None,\n",
              "             enable_categorical=False, eval_metric=None, feature_types=None,\n",
              "             gamma=None, gpu_id=None, grow_policy=None, importance_type=None,\n",
              "             interaction_constraints=None, learning_rate=0.2, max_bin=None,\n",
              "             max_cat_threshold=None, max_cat_to_onehot=None,\n",
              "             max_delta_step=None, max_depth=1, max_leaves=20,\n",
              "             min_child_weight=None, missing=nan, monotone_constraints=None,\n",
              "             n_estimators=10, n_jobs=None, num_parallel_tree=None,\n",
              "             predictor=None, random_state=None, ...)"
            ],
            "text/html": [
              "<style>#sk-container-id-7 {color: black;background-color: white;}#sk-container-id-7 pre{padding: 0;}#sk-container-id-7 div.sk-toggleable {background-color: white;}#sk-container-id-7 label.sk-toggleable__label {cursor: pointer;display: block;width: 100%;margin-bottom: 0;padding: 0.3em;box-sizing: border-box;text-align: center;}#sk-container-id-7 label.sk-toggleable__label-arrow:before {content: \"▸\";float: left;margin-right: 0.25em;color: #696969;}#sk-container-id-7 label.sk-toggleable__label-arrow:hover:before {color: black;}#sk-container-id-7 div.sk-estimator:hover label.sk-toggleable__label-arrow:before {color: black;}#sk-container-id-7 div.sk-toggleable__content {max-height: 0;max-width: 0;overflow: hidden;text-align: left;background-color: #f0f8ff;}#sk-container-id-7 div.sk-toggleable__content pre {margin: 0.2em;color: black;border-radius: 0.25em;background-color: #f0f8ff;}#sk-container-id-7 input.sk-toggleable__control:checked~div.sk-toggleable__content {max-height: 200px;max-width: 100%;overflow: auto;}#sk-container-id-7 input.sk-toggleable__control:checked~label.sk-toggleable__label-arrow:before {content: \"▾\";}#sk-container-id-7 div.sk-estimator input.sk-toggleable__control:checked~label.sk-toggleable__label {background-color: #d4ebff;}#sk-container-id-7 div.sk-label input.sk-toggleable__control:checked~label.sk-toggleable__label {background-color: #d4ebff;}#sk-container-id-7 input.sk-hidden--visually {border: 0;clip: rect(1px 1px 1px 1px);clip: rect(1px, 1px, 1px, 1px);height: 1px;margin: -1px;overflow: hidden;padding: 0;position: absolute;width: 1px;}#sk-container-id-7 div.sk-estimator {font-family: monospace;background-color: #f0f8ff;border: 1px dotted black;border-radius: 0.25em;box-sizing: border-box;margin-bottom: 0.5em;}#sk-container-id-7 div.sk-estimator:hover {background-color: #d4ebff;}#sk-container-id-7 div.sk-parallel-item::after {content: \"\";width: 100%;border-bottom: 1px solid gray;flex-grow: 1;}#sk-container-id-7 div.sk-label:hover label.sk-toggleable__label {background-color: #d4ebff;}#sk-container-id-7 div.sk-serial::before {content: \"\";position: absolute;border-left: 1px solid gray;box-sizing: border-box;top: 0;bottom: 0;left: 50%;z-index: 0;}#sk-container-id-7 div.sk-serial {display: flex;flex-direction: column;align-items: center;background-color: white;padding-right: 0.2em;padding-left: 0.2em;position: relative;}#sk-container-id-7 div.sk-item {position: relative;z-index: 1;}#sk-container-id-7 div.sk-parallel {display: flex;align-items: stretch;justify-content: center;background-color: white;position: relative;}#sk-container-id-7 div.sk-item::before, #sk-container-id-7 div.sk-parallel-item::before {content: \"\";position: absolute;border-left: 1px solid gray;box-sizing: border-box;top: 0;bottom: 0;left: 50%;z-index: -1;}#sk-container-id-7 div.sk-parallel-item {display: flex;flex-direction: column;z-index: 1;position: relative;background-color: white;}#sk-container-id-7 div.sk-parallel-item:first-child::after {align-self: flex-end;width: 50%;}#sk-container-id-7 div.sk-parallel-item:last-child::after {align-self: flex-start;width: 50%;}#sk-container-id-7 div.sk-parallel-item:only-child::after {width: 0;}#sk-container-id-7 div.sk-dashed-wrapped {border: 1px dashed gray;margin: 0 0.4em 0.5em 0.4em;box-sizing: border-box;padding-bottom: 0.4em;background-color: white;}#sk-container-id-7 div.sk-label label {font-family: monospace;font-weight: bold;display: inline-block;line-height: 1.2em;}#sk-container-id-7 div.sk-label-container {text-align: center;}#sk-container-id-7 div.sk-container {/* jupyter's `normalize.less` sets `[hidden] { display: none; }` but bootstrap.min.css set `[hidden] { display: none !important; }` so we also need the `!important` here to be able to override the default hidden behavior on the sphinx rendered scikit-learn.org. See: https://github.com/scikit-learn/scikit-learn/issues/21755 */display: inline-block !important;position: relative;}#sk-container-id-7 div.sk-text-repr-fallback {display: none;}</style><div id=\"sk-container-id-7\" class=\"sk-top-container\"><div class=\"sk-text-repr-fallback\"><pre>XGBRegressor(base_score=None, booster=&#x27;dart&#x27;, callbacks=None,\n",
              "             colsample_bylevel=None, colsample_bynode=None,\n",
              "             colsample_bytree=None, early_stopping_rounds=None,\n",
              "             enable_categorical=False, eval_metric=None, feature_types=None,\n",
              "             gamma=None, gpu_id=None, grow_policy=None, importance_type=None,\n",
              "             interaction_constraints=None, learning_rate=0.2, max_bin=None,\n",
              "             max_cat_threshold=None, max_cat_to_onehot=None,\n",
              "             max_delta_step=None, max_depth=1, max_leaves=20,\n",
              "             min_child_weight=None, missing=nan, monotone_constraints=None,\n",
              "             n_estimators=10, n_jobs=None, num_parallel_tree=None,\n",
              "             predictor=None, random_state=None, ...)</pre><b>In a Jupyter environment, please rerun this cell to show the HTML representation or trust the notebook. <br />On GitHub, the HTML representation is unable to render, please try loading this page with nbviewer.org.</b></div><div class=\"sk-container\" hidden><div class=\"sk-item\"><div class=\"sk-estimator sk-toggleable\"><input class=\"sk-toggleable__control sk-hidden--visually\" id=\"sk-estimator-id-7\" type=\"checkbox\" checked><label for=\"sk-estimator-id-7\" class=\"sk-toggleable__label sk-toggleable__label-arrow\">XGBRegressor</label><div class=\"sk-toggleable__content\"><pre>XGBRegressor(base_score=None, booster=&#x27;dart&#x27;, callbacks=None,\n",
              "             colsample_bylevel=None, colsample_bynode=None,\n",
              "             colsample_bytree=None, early_stopping_rounds=None,\n",
              "             enable_categorical=False, eval_metric=None, feature_types=None,\n",
              "             gamma=None, gpu_id=None, grow_policy=None, importance_type=None,\n",
              "             interaction_constraints=None, learning_rate=0.2, max_bin=None,\n",
              "             max_cat_threshold=None, max_cat_to_onehot=None,\n",
              "             max_delta_step=None, max_depth=1, max_leaves=20,\n",
              "             min_child_weight=None, missing=nan, monotone_constraints=None,\n",
              "             n_estimators=10, n_jobs=None, num_parallel_tree=None,\n",
              "             predictor=None, random_state=None, ...)</pre></div></div></div></div></div>"
            ]
          },
          "metadata": {},
          "execution_count": 87
        }
      ]
    },
    {
      "cell_type": "code",
      "source": [
        "# Making predictions on the test data\n",
        "y_pred = xgb_model3.predict(X_test)"
      ],
      "metadata": {
        "id": "2EaTnELP3emP"
      },
      "execution_count": 88,
      "outputs": []
    },
    {
      "cell_type": "code",
      "source": [
        "mse = mean_squared_error(y_test, y_pred)\n",
        "print(\"Mean Squared Error:\", mse)"
      ],
      "metadata": {
        "id": "6uCO_vSu3oLT",
        "colab": {
          "base_uri": "https://localhost:8080/"
        },
        "outputId": "cf0832db-b023-4058-e6c7-d53d384f9aca"
      },
      "execution_count": 89,
      "outputs": [
        {
          "output_type": "stream",
          "name": "stdout",
          "text": [
            "Mean Squared Error: 8.061007072892984\n"
          ]
        }
      ]
    },
    {
      "cell_type": "code",
      "source": [
        "r2 = r2_score(y_test, y_pred)\n",
        "print(\"R2 Score:\", r2)"
      ],
      "metadata": {
        "id": "5mzUWagj3rdw",
        "colab": {
          "base_uri": "https://localhost:8080/"
        },
        "outputId": "22d49276-89cb-4cd4-e39e-209cdf1c51fa"
      },
      "execution_count": 90,
      "outputs": [
        {
          "output_type": "stream",
          "name": "stdout",
          "text": [
            "R2 Score: -0.0961933517306015\n"
          ]
        }
      ]
    },
    {
      "cell_type": "code",
      "source": [
        "m1 = np.median(y1)\n",
        "\n",
        "y_pred_acc_inserlen= np.where(y_pred > m1, 1, 0)\n",
        "y_test_acc_inserlen= np.where(y_test > m1, 1, 0)\n",
        "# Calculate accuracy\n",
        "accuracy = accuracy_score(y_test_acc_inserlen, y_pred_acc_inserlen)\n",
        "\n",
        "print(\"Accuracy:\", accuracy)"
      ],
      "metadata": {
        "id": "Y-rWVdXnw_Bz",
        "colab": {
          "base_uri": "https://localhost:8080/"
        },
        "outputId": "4e2a28f3-9aef-4a23-c167-c8b9f7de5867"
      },
      "execution_count": 91,
      "outputs": [
        {
          "output_type": "stream",
          "name": "stdout",
          "text": [
            "Accuracy: 0.5049180327868853\n"
          ]
        }
      ]
    },
    {
      "cell_type": "code",
      "source": [
        "# Assuming 'model' is your trained machine learning model\n",
        "with open('model3.pkl', 'wb') as file:\n",
        "    pickle.dump(xgb_model3, file)"
      ],
      "metadata": {
        "id": "Ij8OKlhH14ft"
      },
      "execution_count": 112,
      "outputs": []
    },
    {
      "cell_type": "code",
      "source": [
        "X = X.reshape(1521,92)\n",
        "y1  = y[:,3]"
      ],
      "metadata": {
        "id": "mu2GnPi1OhHl"
      },
      "execution_count": 92,
      "outputs": []
    },
    {
      "cell_type": "code",
      "source": [
        "# Split data into train and test (Validation in our case)\n",
        "X_train, X_test, y_train, y_test = train_test_split(X, y1, random_state=1, test_size=0.20)"
      ],
      "metadata": {
        "id": "kKkYM1g0OkNC"
      },
      "execution_count": 93,
      "outputs": []
    },
    {
      "cell_type": "code",
      "source": [
        "print(f\"Shape of Xtrain: {X_train.shape}\\n\\\n",
        "Shape of Xtest: {X_test.shape}\\n\\\n",
        "Shape of ytrain: {y_train.shape}\\n\\\n",
        "Shape of ytest: {y_test.shape}\")"
      ],
      "metadata": {
        "id": "c9iDr4kfOlIF",
        "colab": {
          "base_uri": "https://localhost:8080/"
        },
        "outputId": "3e1d2312-4037-4f70-958c-cc7f5cb3463b"
      },
      "execution_count": 94,
      "outputs": [
        {
          "output_type": "stream",
          "name": "stdout",
          "text": [
            "Shape of Xtrain: (1216, 92)\n",
            "Shape of Xtest: (305, 92)\n",
            "Shape of ytrain: (1216,)\n",
            "Shape of ytest: (305,)\n"
          ]
        }
      ]
    },
    {
      "cell_type": "code",
      "source": [
        "xgb_model4 = xgb.XGBRegressor(booster = \"dart\", max_depth = 2, n_estimators= 30, learning_rate = 1.2, max_leaves = 20, )\n",
        "#xgb_model = xgb.XGBRegressor()"
      ],
      "metadata": {
        "id": "GneUNG-0OpXM"
      },
      "execution_count": 95,
      "outputs": []
    },
    {
      "cell_type": "code",
      "source": [
        "xgb_model4.fit(X_train, y_train)"
      ],
      "metadata": {
        "id": "N7ei-XzYOw0I",
        "colab": {
          "base_uri": "https://localhost:8080/",
          "height": 248
        },
        "outputId": "0b38b49f-db12-4925-ee2b-aefc634334e3"
      },
      "execution_count": 96,
      "outputs": [
        {
          "output_type": "execute_result",
          "data": {
            "text/plain": [
              "XGBRegressor(base_score=None, booster='dart', callbacks=None,\n",
              "             colsample_bylevel=None, colsample_bynode=None,\n",
              "             colsample_bytree=None, early_stopping_rounds=None,\n",
              "             enable_categorical=False, eval_metric=None, feature_types=None,\n",
              "             gamma=None, gpu_id=None, grow_policy=None, importance_type=None,\n",
              "             interaction_constraints=None, learning_rate=1.2, max_bin=None,\n",
              "             max_cat_threshold=None, max_cat_to_onehot=None,\n",
              "             max_delta_step=None, max_depth=2, max_leaves=20,\n",
              "             min_child_weight=None, missing=nan, monotone_constraints=None,\n",
              "             n_estimators=30, n_jobs=None, num_parallel_tree=None,\n",
              "             predictor=None, random_state=None, ...)"
            ],
            "text/html": [
              "<style>#sk-container-id-8 {color: black;background-color: white;}#sk-container-id-8 pre{padding: 0;}#sk-container-id-8 div.sk-toggleable {background-color: white;}#sk-container-id-8 label.sk-toggleable__label {cursor: pointer;display: block;width: 100%;margin-bottom: 0;padding: 0.3em;box-sizing: border-box;text-align: center;}#sk-container-id-8 label.sk-toggleable__label-arrow:before {content: \"▸\";float: left;margin-right: 0.25em;color: #696969;}#sk-container-id-8 label.sk-toggleable__label-arrow:hover:before {color: black;}#sk-container-id-8 div.sk-estimator:hover label.sk-toggleable__label-arrow:before {color: black;}#sk-container-id-8 div.sk-toggleable__content {max-height: 0;max-width: 0;overflow: hidden;text-align: left;background-color: #f0f8ff;}#sk-container-id-8 div.sk-toggleable__content pre {margin: 0.2em;color: black;border-radius: 0.25em;background-color: #f0f8ff;}#sk-container-id-8 input.sk-toggleable__control:checked~div.sk-toggleable__content {max-height: 200px;max-width: 100%;overflow: auto;}#sk-container-id-8 input.sk-toggleable__control:checked~label.sk-toggleable__label-arrow:before {content: \"▾\";}#sk-container-id-8 div.sk-estimator input.sk-toggleable__control:checked~label.sk-toggleable__label {background-color: #d4ebff;}#sk-container-id-8 div.sk-label input.sk-toggleable__control:checked~label.sk-toggleable__label {background-color: #d4ebff;}#sk-container-id-8 input.sk-hidden--visually {border: 0;clip: rect(1px 1px 1px 1px);clip: rect(1px, 1px, 1px, 1px);height: 1px;margin: -1px;overflow: hidden;padding: 0;position: absolute;width: 1px;}#sk-container-id-8 div.sk-estimator {font-family: monospace;background-color: #f0f8ff;border: 1px dotted black;border-radius: 0.25em;box-sizing: border-box;margin-bottom: 0.5em;}#sk-container-id-8 div.sk-estimator:hover {background-color: #d4ebff;}#sk-container-id-8 div.sk-parallel-item::after {content: \"\";width: 100%;border-bottom: 1px solid gray;flex-grow: 1;}#sk-container-id-8 div.sk-label:hover label.sk-toggleable__label {background-color: #d4ebff;}#sk-container-id-8 div.sk-serial::before {content: \"\";position: absolute;border-left: 1px solid gray;box-sizing: border-box;top: 0;bottom: 0;left: 50%;z-index: 0;}#sk-container-id-8 div.sk-serial {display: flex;flex-direction: column;align-items: center;background-color: white;padding-right: 0.2em;padding-left: 0.2em;position: relative;}#sk-container-id-8 div.sk-item {position: relative;z-index: 1;}#sk-container-id-8 div.sk-parallel {display: flex;align-items: stretch;justify-content: center;background-color: white;position: relative;}#sk-container-id-8 div.sk-item::before, #sk-container-id-8 div.sk-parallel-item::before {content: \"\";position: absolute;border-left: 1px solid gray;box-sizing: border-box;top: 0;bottom: 0;left: 50%;z-index: -1;}#sk-container-id-8 div.sk-parallel-item {display: flex;flex-direction: column;z-index: 1;position: relative;background-color: white;}#sk-container-id-8 div.sk-parallel-item:first-child::after {align-self: flex-end;width: 50%;}#sk-container-id-8 div.sk-parallel-item:last-child::after {align-self: flex-start;width: 50%;}#sk-container-id-8 div.sk-parallel-item:only-child::after {width: 0;}#sk-container-id-8 div.sk-dashed-wrapped {border: 1px dashed gray;margin: 0 0.4em 0.5em 0.4em;box-sizing: border-box;padding-bottom: 0.4em;background-color: white;}#sk-container-id-8 div.sk-label label {font-family: monospace;font-weight: bold;display: inline-block;line-height: 1.2em;}#sk-container-id-8 div.sk-label-container {text-align: center;}#sk-container-id-8 div.sk-container {/* jupyter's `normalize.less` sets `[hidden] { display: none; }` but bootstrap.min.css set `[hidden] { display: none !important; }` so we also need the `!important` here to be able to override the default hidden behavior on the sphinx rendered scikit-learn.org. See: https://github.com/scikit-learn/scikit-learn/issues/21755 */display: inline-block !important;position: relative;}#sk-container-id-8 div.sk-text-repr-fallback {display: none;}</style><div id=\"sk-container-id-8\" class=\"sk-top-container\"><div class=\"sk-text-repr-fallback\"><pre>XGBRegressor(base_score=None, booster=&#x27;dart&#x27;, callbacks=None,\n",
              "             colsample_bylevel=None, colsample_bynode=None,\n",
              "             colsample_bytree=None, early_stopping_rounds=None,\n",
              "             enable_categorical=False, eval_metric=None, feature_types=None,\n",
              "             gamma=None, gpu_id=None, grow_policy=None, importance_type=None,\n",
              "             interaction_constraints=None, learning_rate=1.2, max_bin=None,\n",
              "             max_cat_threshold=None, max_cat_to_onehot=None,\n",
              "             max_delta_step=None, max_depth=2, max_leaves=20,\n",
              "             min_child_weight=None, missing=nan, monotone_constraints=None,\n",
              "             n_estimators=30, n_jobs=None, num_parallel_tree=None,\n",
              "             predictor=None, random_state=None, ...)</pre><b>In a Jupyter environment, please rerun this cell to show the HTML representation or trust the notebook. <br />On GitHub, the HTML representation is unable to render, please try loading this page with nbviewer.org.</b></div><div class=\"sk-container\" hidden><div class=\"sk-item\"><div class=\"sk-estimator sk-toggleable\"><input class=\"sk-toggleable__control sk-hidden--visually\" id=\"sk-estimator-id-8\" type=\"checkbox\" checked><label for=\"sk-estimator-id-8\" class=\"sk-toggleable__label sk-toggleable__label-arrow\">XGBRegressor</label><div class=\"sk-toggleable__content\"><pre>XGBRegressor(base_score=None, booster=&#x27;dart&#x27;, callbacks=None,\n",
              "             colsample_bylevel=None, colsample_bynode=None,\n",
              "             colsample_bytree=None, early_stopping_rounds=None,\n",
              "             enable_categorical=False, eval_metric=None, feature_types=None,\n",
              "             gamma=None, gpu_id=None, grow_policy=None, importance_type=None,\n",
              "             interaction_constraints=None, learning_rate=1.2, max_bin=None,\n",
              "             max_cat_threshold=None, max_cat_to_onehot=None,\n",
              "             max_delta_step=None, max_depth=2, max_leaves=20,\n",
              "             min_child_weight=None, missing=nan, monotone_constraints=None,\n",
              "             n_estimators=30, n_jobs=None, num_parallel_tree=None,\n",
              "             predictor=None, random_state=None, ...)</pre></div></div></div></div></div>"
            ]
          },
          "metadata": {},
          "execution_count": 96
        }
      ]
    },
    {
      "cell_type": "code",
      "source": [
        "# Making predictions on the test data\n",
        "y_pred = xgb_model4.predict(X_test)"
      ],
      "metadata": {
        "id": "Dyni2kosOxq3"
      },
      "execution_count": 97,
      "outputs": []
    },
    {
      "cell_type": "code",
      "source": [
        "mse = mean_squared_error(y_test, y_pred)\n",
        "print(\"Mean Squared Error:\", mse)"
      ],
      "metadata": {
        "id": "hlDv-lVzO1a4",
        "colab": {
          "base_uri": "https://localhost:8080/"
        },
        "outputId": "d40ea4e7-6f0c-427d-f68e-93ea4e0764a7"
      },
      "execution_count": 98,
      "outputs": [
        {
          "output_type": "stream",
          "name": "stdout",
          "text": [
            "Mean Squared Error: 0.3746129791451997\n"
          ]
        }
      ]
    },
    {
      "cell_type": "code",
      "source": [
        "r2 = r2_score(y_test, y_pred)\n",
        "print(\"R2 Score:\", r2)"
      ],
      "metadata": {
        "id": "zKX97pHTO4Dm",
        "colab": {
          "base_uri": "https://localhost:8080/"
        },
        "outputId": "35064c69-eb2b-4e6a-bcb8-e8ce688e6076"
      },
      "execution_count": 99,
      "outputs": [
        {
          "output_type": "stream",
          "name": "stdout",
          "text": [
            "R2 Score: 0.18844055679913307\n"
          ]
        }
      ]
    },
    {
      "cell_type": "code",
      "source": [
        "m1 = np.median(y1)\n",
        "\n",
        "y_pred_acc_inserlen= np.where(y_pred > m1, 1, 0)\n",
        "y_test_acc_inserlen= np.where(y_test > m1, 1, 0)\n",
        "# Calculate accuracy\n",
        "accuracy = accuracy_score(y_test_acc_inserlen, y_pred_acc_inserlen)\n",
        "\n",
        "print(\"Accuracy:\", accuracy)"
      ],
      "metadata": {
        "id": "e4aCKaDPxGzp",
        "colab": {
          "base_uri": "https://localhost:8080/"
        },
        "outputId": "9344e9cb-3e2c-44a9-9a8b-88fa74ee5d66"
      },
      "execution_count": 100,
      "outputs": [
        {
          "output_type": "stream",
          "name": "stdout",
          "text": [
            "Accuracy: 0.659016393442623\n"
          ]
        }
      ]
    },
    {
      "cell_type": "code",
      "source": [
        "# Assuming 'model' is your trained machine learning model\n",
        "with open('model4.pkl', 'wb') as file:\n",
        "    pickle.dump(xgb_model4, file)"
      ],
      "metadata": {
        "id": "ihgQqPVB1_Ie"
      },
      "execution_count": 113,
      "outputs": []
    },
    {
      "cell_type": "code",
      "source": [
        "X = X.reshape(1521,92)\n",
        "y1  = y[:,4]"
      ],
      "metadata": {
        "id": "wFoPcD8JkMk4"
      },
      "execution_count": 101,
      "outputs": []
    },
    {
      "cell_type": "code",
      "source": [
        "# Split data into train and test (Validation in our case)\n",
        "X_train, X_test, y_train, y_test = train_test_split(X, y1, random_state=1, test_size=0.20)"
      ],
      "metadata": {
        "id": "287bGB-OkS-K"
      },
      "execution_count": 102,
      "outputs": []
    },
    {
      "cell_type": "code",
      "source": [
        "print(f\"Shape of Xtrain: {X_train.shape}\\n\\\n",
        "Shape of Xtest: {X_test.shape}\\n\\\n",
        "Shape of ytrain: {y_train.shape}\\n\\\n",
        "Shape of ytest: {y_test.shape}\")"
      ],
      "metadata": {
        "colab": {
          "base_uri": "https://localhost:8080/"
        },
        "id": "XN783WRnkXzy",
        "outputId": "fdcd3075-a63e-48de-d2ae-c609e6e8b064"
      },
      "execution_count": 103,
      "outputs": [
        {
          "output_type": "stream",
          "name": "stdout",
          "text": [
            "Shape of Xtrain: (1216, 92)\n",
            "Shape of Xtest: (305, 92)\n",
            "Shape of ytrain: (1216,)\n",
            "Shape of ytest: (305,)\n"
          ]
        }
      ]
    },
    {
      "cell_type": "code",
      "source": [
        "xgb_model5 = xgb.XGBRegressor(booster = \"dart\", max_depth = 2, n_estimators= 30, learning_rate = 1.2, max_leaves = 20, )\n",
        "#xgb_model = xgb.XGBRegressor()"
      ],
      "metadata": {
        "id": "lltELE1skatj"
      },
      "execution_count": 104,
      "outputs": []
    },
    {
      "cell_type": "code",
      "source": [
        "xgb_model5.fit(X_train, y_train)"
      ],
      "metadata": {
        "colab": {
          "base_uri": "https://localhost:8080/",
          "height": 248
        },
        "id": "4lMVtiAakdTM",
        "outputId": "364555c2-287d-43dd-ef61-08a373e728bb"
      },
      "execution_count": 105,
      "outputs": [
        {
          "output_type": "execute_result",
          "data": {
            "text/plain": [
              "XGBRegressor(base_score=None, booster='dart', callbacks=None,\n",
              "             colsample_bylevel=None, colsample_bynode=None,\n",
              "             colsample_bytree=None, early_stopping_rounds=None,\n",
              "             enable_categorical=False, eval_metric=None, feature_types=None,\n",
              "             gamma=None, gpu_id=None, grow_policy=None, importance_type=None,\n",
              "             interaction_constraints=None, learning_rate=1.2, max_bin=None,\n",
              "             max_cat_threshold=None, max_cat_to_onehot=None,\n",
              "             max_delta_step=None, max_depth=2, max_leaves=20,\n",
              "             min_child_weight=None, missing=nan, monotone_constraints=None,\n",
              "             n_estimators=30, n_jobs=None, num_parallel_tree=None,\n",
              "             predictor=None, random_state=None, ...)"
            ],
            "text/html": [
              "<style>#sk-container-id-9 {color: black;background-color: white;}#sk-container-id-9 pre{padding: 0;}#sk-container-id-9 div.sk-toggleable {background-color: white;}#sk-container-id-9 label.sk-toggleable__label {cursor: pointer;display: block;width: 100%;margin-bottom: 0;padding: 0.3em;box-sizing: border-box;text-align: center;}#sk-container-id-9 label.sk-toggleable__label-arrow:before {content: \"▸\";float: left;margin-right: 0.25em;color: #696969;}#sk-container-id-9 label.sk-toggleable__label-arrow:hover:before {color: black;}#sk-container-id-9 div.sk-estimator:hover label.sk-toggleable__label-arrow:before {color: black;}#sk-container-id-9 div.sk-toggleable__content {max-height: 0;max-width: 0;overflow: hidden;text-align: left;background-color: #f0f8ff;}#sk-container-id-9 div.sk-toggleable__content pre {margin: 0.2em;color: black;border-radius: 0.25em;background-color: #f0f8ff;}#sk-container-id-9 input.sk-toggleable__control:checked~div.sk-toggleable__content {max-height: 200px;max-width: 100%;overflow: auto;}#sk-container-id-9 input.sk-toggleable__control:checked~label.sk-toggleable__label-arrow:before {content: \"▾\";}#sk-container-id-9 div.sk-estimator input.sk-toggleable__control:checked~label.sk-toggleable__label {background-color: #d4ebff;}#sk-container-id-9 div.sk-label input.sk-toggleable__control:checked~label.sk-toggleable__label {background-color: #d4ebff;}#sk-container-id-9 input.sk-hidden--visually {border: 0;clip: rect(1px 1px 1px 1px);clip: rect(1px, 1px, 1px, 1px);height: 1px;margin: -1px;overflow: hidden;padding: 0;position: absolute;width: 1px;}#sk-container-id-9 div.sk-estimator {font-family: monospace;background-color: #f0f8ff;border: 1px dotted black;border-radius: 0.25em;box-sizing: border-box;margin-bottom: 0.5em;}#sk-container-id-9 div.sk-estimator:hover {background-color: #d4ebff;}#sk-container-id-9 div.sk-parallel-item::after {content: \"\";width: 100%;border-bottom: 1px solid gray;flex-grow: 1;}#sk-container-id-9 div.sk-label:hover label.sk-toggleable__label {background-color: #d4ebff;}#sk-container-id-9 div.sk-serial::before {content: \"\";position: absolute;border-left: 1px solid gray;box-sizing: border-box;top: 0;bottom: 0;left: 50%;z-index: 0;}#sk-container-id-9 div.sk-serial {display: flex;flex-direction: column;align-items: center;background-color: white;padding-right: 0.2em;padding-left: 0.2em;position: relative;}#sk-container-id-9 div.sk-item {position: relative;z-index: 1;}#sk-container-id-9 div.sk-parallel {display: flex;align-items: stretch;justify-content: center;background-color: white;position: relative;}#sk-container-id-9 div.sk-item::before, #sk-container-id-9 div.sk-parallel-item::before {content: \"\";position: absolute;border-left: 1px solid gray;box-sizing: border-box;top: 0;bottom: 0;left: 50%;z-index: -1;}#sk-container-id-9 div.sk-parallel-item {display: flex;flex-direction: column;z-index: 1;position: relative;background-color: white;}#sk-container-id-9 div.sk-parallel-item:first-child::after {align-self: flex-end;width: 50%;}#sk-container-id-9 div.sk-parallel-item:last-child::after {align-self: flex-start;width: 50%;}#sk-container-id-9 div.sk-parallel-item:only-child::after {width: 0;}#sk-container-id-9 div.sk-dashed-wrapped {border: 1px dashed gray;margin: 0 0.4em 0.5em 0.4em;box-sizing: border-box;padding-bottom: 0.4em;background-color: white;}#sk-container-id-9 div.sk-label label {font-family: monospace;font-weight: bold;display: inline-block;line-height: 1.2em;}#sk-container-id-9 div.sk-label-container {text-align: center;}#sk-container-id-9 div.sk-container {/* jupyter's `normalize.less` sets `[hidden] { display: none; }` but bootstrap.min.css set `[hidden] { display: none !important; }` so we also need the `!important` here to be able to override the default hidden behavior on the sphinx rendered scikit-learn.org. See: https://github.com/scikit-learn/scikit-learn/issues/21755 */display: inline-block !important;position: relative;}#sk-container-id-9 div.sk-text-repr-fallback {display: none;}</style><div id=\"sk-container-id-9\" class=\"sk-top-container\"><div class=\"sk-text-repr-fallback\"><pre>XGBRegressor(base_score=None, booster=&#x27;dart&#x27;, callbacks=None,\n",
              "             colsample_bylevel=None, colsample_bynode=None,\n",
              "             colsample_bytree=None, early_stopping_rounds=None,\n",
              "             enable_categorical=False, eval_metric=None, feature_types=None,\n",
              "             gamma=None, gpu_id=None, grow_policy=None, importance_type=None,\n",
              "             interaction_constraints=None, learning_rate=1.2, max_bin=None,\n",
              "             max_cat_threshold=None, max_cat_to_onehot=None,\n",
              "             max_delta_step=None, max_depth=2, max_leaves=20,\n",
              "             min_child_weight=None, missing=nan, monotone_constraints=None,\n",
              "             n_estimators=30, n_jobs=None, num_parallel_tree=None,\n",
              "             predictor=None, random_state=None, ...)</pre><b>In a Jupyter environment, please rerun this cell to show the HTML representation or trust the notebook. <br />On GitHub, the HTML representation is unable to render, please try loading this page with nbviewer.org.</b></div><div class=\"sk-container\" hidden><div class=\"sk-item\"><div class=\"sk-estimator sk-toggleable\"><input class=\"sk-toggleable__control sk-hidden--visually\" id=\"sk-estimator-id-9\" type=\"checkbox\" checked><label for=\"sk-estimator-id-9\" class=\"sk-toggleable__label sk-toggleable__label-arrow\">XGBRegressor</label><div class=\"sk-toggleable__content\"><pre>XGBRegressor(base_score=None, booster=&#x27;dart&#x27;, callbacks=None,\n",
              "             colsample_bylevel=None, colsample_bynode=None,\n",
              "             colsample_bytree=None, early_stopping_rounds=None,\n",
              "             enable_categorical=False, eval_metric=None, feature_types=None,\n",
              "             gamma=None, gpu_id=None, grow_policy=None, importance_type=None,\n",
              "             interaction_constraints=None, learning_rate=1.2, max_bin=None,\n",
              "             max_cat_threshold=None, max_cat_to_onehot=None,\n",
              "             max_delta_step=None, max_depth=2, max_leaves=20,\n",
              "             min_child_weight=None, missing=nan, monotone_constraints=None,\n",
              "             n_estimators=30, n_jobs=None, num_parallel_tree=None,\n",
              "             predictor=None, random_state=None, ...)</pre></div></div></div></div></div>"
            ]
          },
          "metadata": {},
          "execution_count": 105
        }
      ]
    },
    {
      "cell_type": "code",
      "source": [
        "# Making predictions on the test data\n",
        "y_pred = xgb_model5.predict(X_test)"
      ],
      "metadata": {
        "id": "yJZlvVTukh64"
      },
      "execution_count": 106,
      "outputs": []
    },
    {
      "cell_type": "code",
      "source": [
        "# Define a function to map values to categories\n",
        "def categorize_array(arr):\n",
        "    categories = np.where(arr > 0.6, 'high', np.where(arr >= 0.4, 'medium', 'low'))\n",
        "    return categories\n",
        "\n",
        "y_pred_frame= categorize_array(y_pred)\n",
        "y_test_frame= categorize_array(y_test)\n",
        "# Calculate accuracy\n",
        "accuracy = accuracy_score(y_test_frame, y_pred_frame)\n",
        "print(\"Accuracy:\", accuracy)"
      ],
      "metadata": {
        "colab": {
          "base_uri": "https://localhost:8080/"
        },
        "id": "G4o_hG9xjy_4",
        "outputId": "82a31d6c-769f-4e94-f9a2-728b847379f2"
      },
      "execution_count": 107,
      "outputs": [
        {
          "output_type": "stream",
          "name": "stdout",
          "text": [
            "Accuracy: 0.7377049180327869\n"
          ]
        }
      ]
    },
    {
      "cell_type": "code",
      "source": [
        "# Assuming 'model' is your trained machine learning model\n",
        "with open('model5.pkl', 'wb') as file:\n",
        "    pickle.dump(xgb_model5, file)"
      ],
      "metadata": {
        "id": "CPqiU4Av2FIA"
      },
      "execution_count": 114,
      "outputs": []
    },
    {
      "cell_type": "code",
      "source": [
        "c_matrix = confusion_matrix(y_test_frame, y_pred_frame)\n",
        "c_matrix"
      ],
      "metadata": {
        "colab": {
          "base_uri": "https://localhost:8080/"
        },
        "id": "i6dbKujmzVH6",
        "outputId": "6a77ecd4-3e8d-4bd1-a974-3260af59549d"
      },
      "execution_count": 68,
      "outputs": [
        {
          "output_type": "execute_result",
          "data": {
            "text/plain": [
              "array([[215,   0,  34],\n",
              "       [  5,   0,   1],\n",
              "       [ 40,   0,  10]])"
            ]
          },
          "metadata": {},
          "execution_count": 68
        }
      ]
    },
    {
      "cell_type": "code",
      "source": [
        "# Assuming 'model' is your trained machine learning model\n",
        "with open('model.pkl', 'wb') as file:\n",
        "    pickle.dump(xgb_model, file)"
      ],
      "metadata": {
        "id": "ezu7mI_rXayK"
      },
      "execution_count": 69,
      "outputs": []
    },
    {
      "cell_type": "code",
      "source": [
        "# Assuming 'model' is your trained machine learning model\n",
        "model_path = 'C:\\\\Users\\Tam\\\\xgb_model.pkl'  # Replace with your desired file path and filename\n",
        "print(\"Before saving\")\n",
        "\n",
        "with open(model_path, 'wb') as file:\n",
        "    pickle.dump(xgb_model, file)\n",
        "\n",
        "print(model_path)"
      ],
      "metadata": {
        "colab": {
          "base_uri": "https://localhost:8080/"
        },
        "id": "d6geg1Cwa0Y7",
        "outputId": "dd0a116a-5093-4545-b4c6-69d022914984"
      },
      "execution_count": 70,
      "outputs": [
        {
          "output_type": "stream",
          "name": "stdout",
          "text": [
            "Before saving\n",
            "C:\\Users\\Tam\\xgb_model.pkl\n"
          ]
        }
      ]
    },
    {
      "cell_type": "code",
      "source": [
        "with open('model.pkl', 'rb') as file:\n",
        "    loaded_model = pickle.load(file)"
      ],
      "metadata": {
        "id": "iPnA23ZBYfDR"
      },
      "execution_count": 71,
      "outputs": []
    },
    {
      "cell_type": "code",
      "source": [
        "print(\"Before saving\")\n",
        "with open(model_path, 'wb') as file:\n",
        "    pickle.dump(xgb_model, file)\n",
        "print(\"After saving\")"
      ],
      "metadata": {
        "colab": {
          "base_uri": "https://localhost:8080/"
        },
        "id": "aaWntFIkflW7",
        "outputId": "0e89d9ff-89e6-405c-f38a-005c71d90930"
      },
      "execution_count": 72,
      "outputs": [
        {
          "output_type": "stream",
          "name": "stdout",
          "text": [
            "Before saving\n",
            "After saving\n"
          ]
        }
      ]
    },
    {
      "cell_type": "code",
      "source": [
        "# # save model in a pickle format .pkl\n",
        "# import pickle\n",
        "# pickle_out = open(\"/content/gdrive/MyDrive/EBAC_Capstone/xgb_model.pkl\",\"wb\")\n",
        "# pickle.dump(xgb_model, pickle_out)\n",
        "# pickle_out.close()"
      ],
      "metadata": {
        "id": "0QZngzeR20o0"
      },
      "execution_count": 73,
      "outputs": []
    }
  ]
}